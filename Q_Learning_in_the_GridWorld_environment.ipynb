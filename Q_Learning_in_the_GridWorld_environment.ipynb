{
  "nbformat": 4,
  "nbformat_minor": 0,
  "metadata": {
    "colab": {
      "name": "Q-Learning in the GridWorld environment.ipynb",
      "provenance": [],
      "collapsed_sections": []
    },
    "kernelspec": {
      "display_name": "Python 3",
      "name": "python3"
    },
    "language_info": {
      "name": "python"
    }
  },
  "cells": [
    {
      "cell_type": "markdown",
      "metadata": {
        "id": "9NdvywB6wPrA"
      },
      "source": [
        "**Q-Learning in the GridWorld environment**\n",
        "\n",
        "Q-learning was an early RL breakthrough when it was developed by Chris Watkins for his PhD thesis in 1989 (Watkins, 1989). It introduces incremental dynamic programming to control an MDP without knowing or modeling the transition and reward matrices that we used for value and policy iteration in the previous section. A convergence proof followed three years later by Watkins and Dayan.\n",
        "\n",
        "Q-learning directly optimizes the action-value function, q, to approximate q*. The learning proceeds off-policy, that is, the algorithm does not need to select actions based on the policy that's implied by the value function alone. However, convergence requires that all state-action pairs continue to be updated throughout the training process. A straightforward way to ensure this is by using an ε-greedy policy.\n",
        "\n",
        "The Q-learning algorithm keeps improving a state-action value function after random initialization for a given number of episodes. At each time step, it chooses an action based on an ε-greedy policy, and uses a learning rate, α, to update the value function, as follows:\n",
        "\n",
        "$$Q(S_t, A_t)\\leftarrow  Q(S_t, A_t) + \\alpha\\left[R_{t_1}+\\gamma \\max_a Q(S_{t+1},,a) − Q(S_t, A_t)\\right]$$\n",
        "Note that the algorithm does not compute expected values because it does know the transition probabilities. It learns the Q function from the rewards produced by the ε-greedy policy and its current estimate of the value function for the next state.\n",
        "\n",
        "The use of the estimated value function to improve this estimate is called bootstrapping. The Q-learning algorithm is part of the TD learning algorithms. TD learning does not wait until receiving the final reward for an episode. Instead, it updates its estimates using the values of intermediate states that are closer to the final reward. In this case, the intermediate state is one time step ahead.\n",
        "\n",
        "The notebook demonstrates how to build a Q-learning agent using the 3 x 4 grid of states from the Dynamic Programmimg example."
      ]
    },
    {
      "cell_type": "markdown",
      "metadata": {
        "id": "YVhbbyAewXkW"
      },
      "source": [
        "**Imports & Settings**"
      ]
    },
    {
      "cell_type": "code",
      "metadata": {
        "colab": {
          "base_uri": "https://localhost:8080/"
        },
        "id": "ROm4Vl_lwZAV",
        "outputId": "1c821e88-58b4-4dc3-852b-229996b8c97b"
      },
      "source": [
        "!pip install pymdptoolbox\n",
        "%matplotlib inline\n",
        "\n",
        "from pathlib import Path\n",
        "from time import process_time\n",
        "import numpy as np\n",
        "import pandas as pd\n",
        "from mdptoolbox import mdp\n",
        "from itertools import product"
      ],
      "execution_count": 25,
      "outputs": [
        {
          "output_type": "stream",
          "text": [
            "Requirement already satisfied: pymdptoolbox in /usr/local/lib/python3.7/dist-packages (4.0b3)\n",
            "Requirement already satisfied: scipy in /usr/local/lib/python3.7/dist-packages (from pymdptoolbox) (1.4.1)\n",
            "Requirement already satisfied: numpy in /usr/local/lib/python3.7/dist-packages (from pymdptoolbox) (1.19.5)\n"
          ],
          "name": "stdout"
        }
      ]
    },
    {
      "cell_type": "markdown",
      "metadata": {
        "id": "dBd8hyYVwoMF"
      },
      "source": [
        "**Set up Gridworld**\n",
        "\n",
        "We first create our small gridworld as in the Dynamic Programmimg example."
      ]
    },
    {
      "cell_type": "markdown",
      "metadata": {
        "id": "VSciqciYwurd"
      },
      "source": [
        "**States, Actions and Rewards**"
      ]
    },
    {
      "cell_type": "code",
      "metadata": {
        "id": "SqCF6GfjwkmN"
      },
      "source": [
        "grid_size = (3, 4)\n",
        "blocked_cell = (1, 1)\n",
        "baseline_reward = -0.02\n",
        "absorbing_cells = {(0, 3): 1, (1, 3): -1}"
      ],
      "execution_count": 26,
      "outputs": []
    },
    {
      "cell_type": "code",
      "metadata": {
        "id": "BPLbm4c6wkp_"
      },
      "source": [
        "actions = ['L', 'U', 'R', 'D']\n",
        "num_actions = len(actions)\n",
        "probs = [.1, .8, .1, 0]"
      ],
      "execution_count": 27,
      "outputs": []
    },
    {
      "cell_type": "code",
      "metadata": {
        "id": "53w-uWrQxRuV"
      },
      "source": [
        "to_1d = lambda x: np.ravel_multi_index(x, grid_size)\n",
        "to_2d = lambda x: np.unravel_index(x, grid_size)"
      ],
      "execution_count": 28,
      "outputs": []
    },
    {
      "cell_type": "code",
      "metadata": {
        "id": "9xhXr0h-wksK"
      },
      "source": [
        "num_states = np.product(grid_size)\n",
        "cells = list(np.ndindex(grid_size))\n",
        "states = list(range(len(cells)))"
      ],
      "execution_count": 29,
      "outputs": []
    },
    {
      "cell_type": "code",
      "metadata": {
        "id": "t9MB-4BywkuG"
      },
      "source": [
        "cell_state = dict(zip(cells, states))\n",
        "state_cell= dict(zip(states, cells))"
      ],
      "execution_count": 30,
      "outputs": []
    },
    {
      "cell_type": "code",
      "metadata": {
        "id": "nrEDQsfPwkwl"
      },
      "source": [
        "absorbing_states = {to_1d(s):r for s, r in absorbing_cells.items()}\n",
        "blocked_state = to_1d(blocked_cell)"
      ],
      "execution_count": 31,
      "outputs": []
    },
    {
      "cell_type": "code",
      "metadata": {
        "id": "OofWSy4-wk0P"
      },
      "source": [
        "state_rewards = np.full(num_states, baseline_reward)\n",
        "state_rewards[blocked_state] = 0\n",
        "for state, reward in absorbing_states.items():\n",
        "    state_rewards[state] = reward"
      ],
      "execution_count": 32,
      "outputs": []
    },
    {
      "cell_type": "code",
      "metadata": {
        "id": "8I4rmFssxZl2"
      },
      "source": [
        "action_outcomes = {}\n",
        "for i, action in enumerate(actions):\n",
        "    probs_ = dict(zip([actions[j % 4] for j in range(i, num_actions + i)], probs))\n",
        "    action_outcomes[actions[(i + 1) % 4]] = probs_"
      ],
      "execution_count": 33,
      "outputs": []
    },
    {
      "cell_type": "code",
      "metadata": {
        "colab": {
          "base_uri": "https://localhost:8080/"
        },
        "id": "YjQb8uKRxZn0",
        "outputId": "0cab9504-10c5-4bda-db30-999a388de0b8"
      },
      "source": [
        "action_outcomes"
      ],
      "execution_count": 34,
      "outputs": [
        {
          "output_type": "execute_result",
          "data": {
            "text/plain": [
              "{'D': {'D': 0.8, 'L': 0.1, 'R': 0.1, 'U': 0},\n",
              " 'L': {'D': 0.1, 'L': 0.8, 'R': 0, 'U': 0.1},\n",
              " 'R': {'D': 0.1, 'L': 0, 'R': 0.8, 'U': 0.1},\n",
              " 'U': {'D': 0, 'L': 0.1, 'R': 0.1, 'U': 0.8}}"
            ]
          },
          "metadata": {
            "tags": []
          },
          "execution_count": 34
        }
      ]
    },
    {
      "cell_type": "markdown",
      "metadata": {
        "id": "_Na1QnW4xggF"
      },
      "source": [
        "**Transition Matrix**"
      ]
    },
    {
      "cell_type": "code",
      "metadata": {
        "id": "MEHG5RjwxjbL"
      },
      "source": [
        "def get_new_cell(state, move):\n",
        "    cell = to_2d(state)\n",
        "    if actions[move] == 'U':\n",
        "        return cell[0] - 1, cell[1]\n",
        "    elif actions[move] == 'D':\n",
        "        return cell[0] + 1, cell[1]\n",
        "    elif actions[move] == 'R':\n",
        "        return cell[0], cell[1] + 1\n",
        "    elif actions[move] == 'L':\n",
        "        return cell[0], cell[1] - 1"
      ],
      "execution_count": 35,
      "outputs": []
    },
    {
      "cell_type": "code",
      "metadata": {
        "colab": {
          "base_uri": "https://localhost:8080/"
        },
        "id": "SOCpbQUBxZsu",
        "outputId": "d5df4b20-247d-4828-f874-cdc79be2e0fd"
      },
      "source": [
        "state_rewards"
      ],
      "execution_count": 36,
      "outputs": [
        {
          "output_type": "execute_result",
          "data": {
            "text/plain": [
              "array([-0.02, -0.02, -0.02,  1.  , -0.02,  0.  , -0.02, -1.  , -0.02,\n",
              "       -0.02, -0.02, -0.02])"
            ]
          },
          "metadata": {
            "tags": []
          },
          "execution_count": 36
        }
      ]
    },
    {
      "cell_type": "code",
      "metadata": {
        "id": "_cmqQEgBxZva"
      },
      "source": [
        "def update_transitions_and_rewards(state, action, outcome):\n",
        "    if state in absorbing_states.keys() or state == blocked_state:\n",
        "        transitions[action, state, state] = 1\n",
        "    else:\n",
        "        new_cell = get_new_cell(state, outcome)\n",
        "        p = action_outcomes[actions[action]][actions[outcome]]\n",
        "        if new_cell not in cells or new_cell == blocked_cell:\n",
        "            transitions[action, state, state] += p\n",
        "            rewards[action, state, state] = baseline_reward\n",
        "        else:\n",
        "            new_state= to_1d(new_cell)\n",
        "            transitions[action, state, new_state] = p\n",
        "            rewards[action, state, new_state] = state_rewards[new_state]"
      ],
      "execution_count": 37,
      "outputs": []
    },
    {
      "cell_type": "code",
      "metadata": {
        "id": "hW9LypaMxZyG"
      },
      "source": [
        "rewards = np.zeros(shape=(num_actions, num_states, num_states))\n",
        "transitions = np.zeros((num_actions, num_states, num_states))\n",
        "actions_ = list(range(num_actions))\n",
        "for action, outcome, state in product(actions_, actions_, states):\n",
        "    update_transitions_and_rewards(state, action, outcome)"
      ],
      "execution_count": 38,
      "outputs": []
    },
    {
      "cell_type": "code",
      "metadata": {
        "colab": {
          "base_uri": "https://localhost:8080/"
        },
        "id": "RjXR0PqsxZ1t",
        "outputId": "e81d0af4-e43d-4cd5-c595-6413bb493f68"
      },
      "source": [
        "rewards.shape, transitions.shape"
      ],
      "execution_count": 39,
      "outputs": [
        {
          "output_type": "execute_result",
          "data": {
            "text/plain": [
              "((4, 12, 12), (4, 12, 12))"
            ]
          },
          "metadata": {
            "tags": []
          },
          "execution_count": 39
        }
      ]
    },
    {
      "cell_type": "markdown",
      "metadata": {
        "id": "IHb-3I1FxxQz"
      },
      "source": [
        "**Q-Learning**\n",
        "\n",
        "We will train the agent for 2,500 episodes, use a learning rate of α= 0.1, and an ε=0.05 for the ε-greedy policy"
      ]
    },
    {
      "cell_type": "code",
      "metadata": {
        "id": "3IMwJ2nix1KT"
      },
      "source": [
        "max_episodes = 2500\n",
        "alpha = .1\n",
        "epsilon = .05\n",
        "gamma = .99"
      ],
      "execution_count": 40,
      "outputs": []
    },
    {
      "cell_type": "markdown",
      "metadata": {
        "id": "I4AvkIbQx9yc"
      },
      "source": [
        "Then, we will randomly initialize the state-action value function as a NumPy array with the dimensions of [number of states and number of actions]:"
      ]
    },
    {
      "cell_type": "code",
      "metadata": {
        "id": "iALgbsZ6x7fn"
      },
      "source": [
        "Q = np.random.rand(num_states, num_actions)\n",
        "skip_states = list(absorbing_states.keys())+[blocked_state]\n",
        "Q[skip_states] = 0"
      ],
      "execution_count": 41,
      "outputs": []
    },
    {
      "cell_type": "markdown",
      "metadata": {
        "id": "yvxmWghax_-3"
      },
      "source": [
        "The algorithm generates 2,500 episodes that start at a random location and proceed according to the ε-greedy policy until termination, updating the value function according to the Q-learning rule:"
      ]
    },
    {
      "cell_type": "code",
      "metadata": {
        "colab": {
          "base_uri": "https://localhost:8080/"
        },
        "id": "AIcyIykvyCKp",
        "outputId": "743bb854-9faa-453d-cd9e-ff7b507390c4"
      },
      "source": [
        "\n",
        "start = process_time()\n",
        "for episode in range(max_episodes):\n",
        "    state = np.random.choice([s for s in states if s not in skip_states])\n",
        "    while not state in absorbing_states.keys():\n",
        "        if np.random.rand() < epsilon:\n",
        "            action = np.random.choice(num_actions)\n",
        "        else:\n",
        "            action = np.argmax(Q[state])\n",
        "        next_state = np.random.choice(states, p=transitions[action, state])\n",
        "        reward = rewards[action, state, next_state]\n",
        "        Q[state, action] += alpha * (reward + gamma * np.max(Q[next_state])-Q[state, action])\n",
        "        state = next_state\n",
        "process_time() - start"
      ],
      "execution_count": 42,
      "outputs": [
        {
          "output_type": "execute_result",
          "data": {
            "text/plain": [
              "1.4628965590000007"
            ]
          },
          "metadata": {
            "tags": []
          },
          "execution_count": 42
        }
      ]
    },
    {
      "cell_type": "markdown",
      "metadata": {
        "id": "CIUNq7JzyEA6"
      },
      "source": [
        "The episodes take 0.6 seconds and converge to a value function fairly close to the result of the value iteration example from the previous section."
      ]
    },
    {
      "cell_type": "code",
      "metadata": {
        "colab": {
          "base_uri": "https://localhost:8080/",
          "height": 142
        },
        "id": "oKVkNdOZyGip",
        "outputId": "427d5bc7-56ba-4f6e-8e79-ef396b5ec434"
      },
      "source": [
        "pd.DataFrame(np.argmax(Q, 1).reshape(grid_size)).replace(dict(enumerate(actions)))"
      ],
      "execution_count": 43,
      "outputs": [
        {
          "output_type": "execute_result",
          "data": {
            "text/html": [
              "<div>\n",
              "<style scoped>\n",
              "    .dataframe tbody tr th:only-of-type {\n",
              "        vertical-align: middle;\n",
              "    }\n",
              "\n",
              "    .dataframe tbody tr th {\n",
              "        vertical-align: top;\n",
              "    }\n",
              "\n",
              "    .dataframe thead th {\n",
              "        text-align: right;\n",
              "    }\n",
              "</style>\n",
              "<table border=\"1\" class=\"dataframe\">\n",
              "  <thead>\n",
              "    <tr style=\"text-align: right;\">\n",
              "      <th></th>\n",
              "      <th>0</th>\n",
              "      <th>1</th>\n",
              "      <th>2</th>\n",
              "      <th>3</th>\n",
              "    </tr>\n",
              "  </thead>\n",
              "  <tbody>\n",
              "    <tr>\n",
              "      <th>0</th>\n",
              "      <td>R</td>\n",
              "      <td>R</td>\n",
              "      <td>R</td>\n",
              "      <td>L</td>\n",
              "    </tr>\n",
              "    <tr>\n",
              "      <th>1</th>\n",
              "      <td>U</td>\n",
              "      <td>L</td>\n",
              "      <td>L</td>\n",
              "      <td>L</td>\n",
              "    </tr>\n",
              "    <tr>\n",
              "      <th>2</th>\n",
              "      <td>U</td>\n",
              "      <td>L</td>\n",
              "      <td>L</td>\n",
              "      <td>D</td>\n",
              "    </tr>\n",
              "  </tbody>\n",
              "</table>\n",
              "</div>"
            ],
            "text/plain": [
              "   0  1  2  3\n",
              "0  R  R  R  L\n",
              "1  U  L  L  L\n",
              "2  U  L  L  D"
            ]
          },
          "metadata": {
            "tags": []
          },
          "execution_count": 43
        }
      ]
    },
    {
      "cell_type": "code",
      "metadata": {
        "colab": {
          "base_uri": "https://localhost:8080/",
          "height": 142
        },
        "id": "7MZmOyx8yKF2",
        "outputId": "03563e6a-a621-49b2-e7d9-6e6e65acdc15"
      },
      "source": [
        "pd.DataFrame(np.argmax(Q, 1).reshape(grid_size)).replace(dict(enumerate(actions)))"
      ],
      "execution_count": 44,
      "outputs": [
        {
          "output_type": "execute_result",
          "data": {
            "text/html": [
              "<div>\n",
              "<style scoped>\n",
              "    .dataframe tbody tr th:only-of-type {\n",
              "        vertical-align: middle;\n",
              "    }\n",
              "\n",
              "    .dataframe tbody tr th {\n",
              "        vertical-align: top;\n",
              "    }\n",
              "\n",
              "    .dataframe thead th {\n",
              "        text-align: right;\n",
              "    }\n",
              "</style>\n",
              "<table border=\"1\" class=\"dataframe\">\n",
              "  <thead>\n",
              "    <tr style=\"text-align: right;\">\n",
              "      <th></th>\n",
              "      <th>0</th>\n",
              "      <th>1</th>\n",
              "      <th>2</th>\n",
              "      <th>3</th>\n",
              "    </tr>\n",
              "  </thead>\n",
              "  <tbody>\n",
              "    <tr>\n",
              "      <th>0</th>\n",
              "      <td>R</td>\n",
              "      <td>R</td>\n",
              "      <td>R</td>\n",
              "      <td>L</td>\n",
              "    </tr>\n",
              "    <tr>\n",
              "      <th>1</th>\n",
              "      <td>U</td>\n",
              "      <td>L</td>\n",
              "      <td>L</td>\n",
              "      <td>L</td>\n",
              "    </tr>\n",
              "    <tr>\n",
              "      <th>2</th>\n",
              "      <td>U</td>\n",
              "      <td>L</td>\n",
              "      <td>L</td>\n",
              "      <td>D</td>\n",
              "    </tr>\n",
              "  </tbody>\n",
              "</table>\n",
              "</div>"
            ],
            "text/plain": [
              "   0  1  2  3\n",
              "0  R  R  R  L\n",
              "1  U  L  L  L\n",
              "2  U  L  L  D"
            ]
          },
          "metadata": {
            "tags": []
          },
          "execution_count": 44
        }
      ]
    },
    {
      "cell_type": "code",
      "metadata": {
        "colab": {
          "base_uri": "https://localhost:8080/",
          "height": 142
        },
        "id": "xWgqckWmyRAo",
        "outputId": "3417d559-6921-4a91-cbad-9dc5a7f841f5"
      },
      "source": [
        "pd.DataFrame(np.max(Q, 1).reshape(grid_size))"
      ],
      "execution_count": 45,
      "outputs": [
        {
          "output_type": "execute_result",
          "data": {
            "text/html": [
              "<div>\n",
              "<style scoped>\n",
              "    .dataframe tbody tr th:only-of-type {\n",
              "        vertical-align: middle;\n",
              "    }\n",
              "\n",
              "    .dataframe tbody tr th {\n",
              "        vertical-align: top;\n",
              "    }\n",
              "\n",
              "    .dataframe thead th {\n",
              "        text-align: right;\n",
              "    }\n",
              "</style>\n",
              "<table border=\"1\" class=\"dataframe\">\n",
              "  <thead>\n",
              "    <tr style=\"text-align: right;\">\n",
              "      <th></th>\n",
              "      <th>0</th>\n",
              "      <th>1</th>\n",
              "      <th>2</th>\n",
              "      <th>3</th>\n",
              "    </tr>\n",
              "  </thead>\n",
              "  <tbody>\n",
              "    <tr>\n",
              "      <th>0</th>\n",
              "      <td>0.899973</td>\n",
              "      <td>0.932346</td>\n",
              "      <td>0.959692</td>\n",
              "      <td>0.00000</td>\n",
              "    </tr>\n",
              "    <tr>\n",
              "      <th>1</th>\n",
              "      <td>0.870511</td>\n",
              "      <td>0.000000</td>\n",
              "      <td>0.694516</td>\n",
              "      <td>0.00000</td>\n",
              "    </tr>\n",
              "    <tr>\n",
              "      <th>2</th>\n",
              "      <td>0.819245</td>\n",
              "      <td>0.778031</td>\n",
              "      <td>0.742992</td>\n",
              "      <td>0.44799</td>\n",
              "    </tr>\n",
              "  </tbody>\n",
              "</table>\n",
              "</div>"
            ],
            "text/plain": [
              "          0         1         2        3\n",
              "0  0.899973  0.932346  0.959692  0.00000\n",
              "1  0.870511  0.000000  0.694516  0.00000\n",
              "2  0.819245  0.778031  0.742992  0.44799"
            ]
          },
          "metadata": {
            "tags": []
          },
          "execution_count": 45
        }
      ]
    },
    {
      "cell_type": "markdown",
      "metadata": {
        "id": "HIpzoY6VyRxQ"
      },
      "source": [
        "**PyMDPToolbox**"
      ]
    },
    {
      "cell_type": "markdown",
      "metadata": {
        "id": "dnWiy9MFyXkC"
      },
      "source": [
        "**Q Learning**"
      ]
    },
    {
      "cell_type": "code",
      "metadata": {
        "colab": {
          "base_uri": "https://localhost:8080/",
          "height": 35
        },
        "id": "aSHYv8ZHyZeA",
        "outputId": "51315f86-1cdd-498d-b35d-2778b0e41188"
      },
      "source": [
        "start = process_time()\n",
        "ql = mdp.QLearning(transitions=transitions,\n",
        "                   reward=rewards,\n",
        "                   discount=gamma,\n",
        "                   n_iter=int(1e6))\n",
        "\n",
        "ql.run()\n",
        "f'Time: {process_time()-start:.4f}'"
      ],
      "execution_count": 46,
      "outputs": [
        {
          "output_type": "execute_result",
          "data": {
            "application/vnd.google.colaboratory.intrinsic+json": {
              "type": "string"
            },
            "text/plain": [
              "'Time: 23.6009'"
            ]
          },
          "metadata": {
            "tags": []
          },
          "execution_count": 46
        }
      ]
    },
    {
      "cell_type": "code",
      "metadata": {
        "colab": {
          "base_uri": "https://localhost:8080/",
          "height": 142
        },
        "id": "wCbL30Vdyeb4",
        "outputId": "9c095f2b-c38c-45af-e3f5-565553bd0c53"
      },
      "source": [
        "policy = np.asarray([actions[i] for i in ql.policy])\n",
        "pd.DataFrame(policy.reshape(grid_size))"
      ],
      "execution_count": 47,
      "outputs": [
        {
          "output_type": "execute_result",
          "data": {
            "text/html": [
              "<div>\n",
              "<style scoped>\n",
              "    .dataframe tbody tr th:only-of-type {\n",
              "        vertical-align: middle;\n",
              "    }\n",
              "\n",
              "    .dataframe tbody tr th {\n",
              "        vertical-align: top;\n",
              "    }\n",
              "\n",
              "    .dataframe thead th {\n",
              "        text-align: right;\n",
              "    }\n",
              "</style>\n",
              "<table border=\"1\" class=\"dataframe\">\n",
              "  <thead>\n",
              "    <tr style=\"text-align: right;\">\n",
              "      <th></th>\n",
              "      <th>0</th>\n",
              "      <th>1</th>\n",
              "      <th>2</th>\n",
              "      <th>3</th>\n",
              "    </tr>\n",
              "  </thead>\n",
              "  <tbody>\n",
              "    <tr>\n",
              "      <th>0</th>\n",
              "      <td>R</td>\n",
              "      <td>R</td>\n",
              "      <td>R</td>\n",
              "      <td>L</td>\n",
              "    </tr>\n",
              "    <tr>\n",
              "      <th>1</th>\n",
              "      <td>U</td>\n",
              "      <td>L</td>\n",
              "      <td>U</td>\n",
              "      <td>L</td>\n",
              "    </tr>\n",
              "    <tr>\n",
              "      <th>2</th>\n",
              "      <td>U</td>\n",
              "      <td>R</td>\n",
              "      <td>U</td>\n",
              "      <td>L</td>\n",
              "    </tr>\n",
              "  </tbody>\n",
              "</table>\n",
              "</div>"
            ],
            "text/plain": [
              "   0  1  2  3\n",
              "0  R  R  R  L\n",
              "1  U  L  U  L\n",
              "2  U  R  U  L"
            ]
          },
          "metadata": {
            "tags": []
          },
          "execution_count": 47
        }
      ]
    },
    {
      "cell_type": "code",
      "metadata": {
        "colab": {
          "base_uri": "https://localhost:8080/",
          "height": 142
        },
        "id": "dOxON_i2ygg9",
        "outputId": "3d50cd70-c979-4de1-8524-94b70daf59a4"
      },
      "source": [
        "value = np.asarray(ql.V).reshape(grid_size)\n",
        "pd.DataFrame(value)"
      ],
      "execution_count": 48,
      "outputs": [
        {
          "output_type": "execute_result",
          "data": {
            "text/html": [
              "<div>\n",
              "<style scoped>\n",
              "    .dataframe tbody tr th:only-of-type {\n",
              "        vertical-align: middle;\n",
              "    }\n",
              "\n",
              "    .dataframe tbody tr th {\n",
              "        vertical-align: top;\n",
              "    }\n",
              "\n",
              "    .dataframe thead th {\n",
              "        text-align: right;\n",
              "    }\n",
              "</style>\n",
              "<table border=\"1\" class=\"dataframe\">\n",
              "  <thead>\n",
              "    <tr style=\"text-align: right;\">\n",
              "      <th></th>\n",
              "      <th>0</th>\n",
              "      <th>1</th>\n",
              "      <th>2</th>\n",
              "      <th>3</th>\n",
              "    </tr>\n",
              "  </thead>\n",
              "  <tbody>\n",
              "    <tr>\n",
              "      <th>0</th>\n",
              "      <td>0.733364</td>\n",
              "      <td>0.881726</td>\n",
              "      <td>0.952521</td>\n",
              "      <td>0.000000</td>\n",
              "    </tr>\n",
              "    <tr>\n",
              "      <th>1</th>\n",
              "      <td>0.551711</td>\n",
              "      <td>0.000000</td>\n",
              "      <td>0.688496</td>\n",
              "      <td>0.000000</td>\n",
              "    </tr>\n",
              "    <tr>\n",
              "      <th>2</th>\n",
              "      <td>0.227209</td>\n",
              "      <td>0.296307</td>\n",
              "      <td>0.508649</td>\n",
              "      <td>0.171569</td>\n",
              "    </tr>\n",
              "  </tbody>\n",
              "</table>\n",
              "</div>"
            ],
            "text/plain": [
              "          0         1         2         3\n",
              "0  0.733364  0.881726  0.952521  0.000000\n",
              "1  0.551711  0.000000  0.688496  0.000000\n",
              "2  0.227209  0.296307  0.508649  0.171569"
            ]
          },
          "metadata": {
            "tags": []
          },
          "execution_count": 48
        }
      ]
    },
    {
      "cell_type": "markdown",
      "metadata": {
        "id": "udL4OuPvN9sj"
      },
      "source": [
        "**References**\n",
        "\n",
        "Watkins, C.J.C.H. (1989). *Learning from delayed rewards*. PhD Thesis, University of Cambridge, England.\n",
        "\n",
        "Watkins, C.J.C.H., Dayan, P. Q-learning. *Mach Learn* 8, 279–292 (1992)."
      ]
    }
  ]
}