{
  "nbformat": 4,
  "nbformat_minor": 0,
  "metadata": {
    "kernelspec": {
      "display_name": "Python 3",
      "language": "python",
      "name": "python3"
    },
    "language_info": {
      "codemirror_mode": {
        "name": "ipython",
        "version": 3
      },
      "file_extension": ".py",
      "mimetype": "text/x-python",
      "name": "python",
      "nbconvert_exporter": "python",
      "pygments_lexer": "ipython3",
      "version": "3.7.10"
    },
    "colab": {
      "name": "Reinforcement_Learning (classic and deep).ipynb",
      "provenance": [],
      "collapsed_sections": [
        "CmhWMIdOQgsg",
        "JumaoEbqQgso",
        "xZ9nwXzeQgst",
        "y1M4F0NoQgsv",
        "uMQ6bg59Qgs0",
        "1J87xONaQgtJ",
        "M2Obn2cXQgtJ",
        "K_4SCNq_QgtR",
        "TwRMA9HnQgtS"
      ]
    }
  },
  "cells": [
    {
      "cell_type": "markdown",
      "metadata": {
        "id": "To1tMftiQgra"
      },
      "source": [
        "**Reinforcement Learning**"
      ]
    },
    {
      "cell_type": "markdown",
      "metadata": {
        "id": "LLWgTVxoQgrf"
      },
      "source": [
        "This notebook contains the sample codes for reinforcement learning (classic and deep)."
      ]
    },
    {
      "cell_type": "markdown",
      "metadata": {
        "id": "4FY-1GVRQgri"
      },
      "source": [
        "# Setup\n",
        "First, let's import a few common modules, ensure MatplotLib plots figures inline and prepare a function to save the figures. We also check that Python 3.5 or later is installed (although Python 2.x may work, it is deprecated so we strongly recommend you use Python 3 instead), as well as Scikit-Learn ≥0.20 and TensorFlow ≥2.0."
      ]
    },
    {
      "cell_type": "code",
      "metadata": {
        "id": "kyDNfw4zQgrj"
      },
      "source": [
        "# Python ≥3.5 is required\n",
        "import sys\n",
        "assert sys.version_info >= (3, 5)\n",
        "\n",
        "# Scikit-Learn ≥0.20 is required\n",
        "import sklearn\n",
        "assert sklearn.__version__ >= \"0.20\"\n",
        "\n",
        "# TensorFlow ≥2.0 is required\n",
        "import tensorflow as tf\n",
        "from tensorflow import keras\n",
        "assert tf.__version__ >= \"2.0\"\n",
        "\n",
        "if not tf.config.list_physical_devices('GPU'):\n",
        "    print(\"No GPU was detected. CNNs can be very slow without a GPU.\")\n",
        "    if IS_COLAB:\n",
        "        print(\"Go to Runtime > Change runtime and select a GPU hardware accelerator.\")\n",
        "    if IS_KAGGLE:\n",
        "        print(\"Go to Settings > Accelerator and select GPU.\")\n",
        "\n",
        "# Common imports\n",
        "import numpy as np\n",
        "import os\n",
        "\n",
        "# to make this notebook's output stable across runs\n",
        "np.random.seed(42)\n",
        "tf.random.set_seed(42)\n",
        "\n",
        "# To plot pretty figures\n",
        "%matplotlib inline\n",
        "import matplotlib as mpl\n",
        "import matplotlib.pyplot as plt\n",
        "mpl.rc('axes', labelsize=14)\n",
        "mpl.rc('xtick', labelsize=12)\n",
        "mpl.rc('ytick', labelsize=12)\n",
        "\n",
        "# To get smooth animations\n",
        "import matplotlib.animation as animation\n",
        "mpl.rc('animation', html='jshtml')\n",
        "\n",
        "# Where to save the figures\n",
        "PROJECT_ROOT_DIR = \".\"\n",
        "CHAPTER_ID = \"rl\"\n",
        "IMAGES_PATH = os.path.join(PROJECT_ROOT_DIR, \"images\", CHAPTER_ID)\n",
        "os.makedirs(IMAGES_PATH, exist_ok=True)\n",
        "\n",
        "def save_fig(fig_id, tight_layout=True, fig_extension=\"png\", resolution=300):\n",
        "    path = os.path.join(IMAGES_PATH, fig_id + \".\" + fig_extension)\n",
        "    print(\"Saving figure\", fig_id)\n",
        "    if tight_layout:\n",
        "        plt.tight_layout()\n",
        "    plt.savefig(path, format=fig_extension, dpi=resolution)"
      ],
      "execution_count": null,
      "outputs": []
    },
    {
      "cell_type": "markdown",
      "metadata": {
        "id": "1FsUR5GgQgrl"
      },
      "source": [
        "# Introduction to OpenAI gym"
      ]
    },
    {
      "cell_type": "markdown",
      "metadata": {
        "id": "mVzXrNRsQgrm"
      },
      "source": [
        "In this notebook we will be using [OpenAI gym](https://gym.openai.com/), a great toolkit for developing and comparing Reinforcement Learning algorithms. It provides many environments for your learning *agents* to interact with. Let's start by importing `gym`:"
      ]
    },
    {
      "cell_type": "code",
      "metadata": {
        "id": "Rr5TGgi1Qgrn"
      },
      "source": [
        "import gym"
      ],
      "execution_count": null,
      "outputs": []
    },
    {
      "cell_type": "markdown",
      "metadata": {
        "id": "G7MIAZkbQgrn"
      },
      "source": [
        "Let's list all the available environments:"
      ]
    },
    {
      "cell_type": "code",
      "metadata": {
        "id": "HGPFC0Y-Qgro"
      },
      "source": [
        "gym.envs.registry.all()"
      ],
      "execution_count": null,
      "outputs": []
    },
    {
      "cell_type": "markdown",
      "metadata": {
        "id": "rGL9rjvMQgrp"
      },
      "source": [
        "The Cart-Pole is a very simple environment composed of a cart that can move left or right, and pole placed vertically on top of it. The agent must move the cart left or right to keep the pole upright."
      ]
    },
    {
      "cell_type": "code",
      "metadata": {
        "id": "pvtOeLAXQgrq"
      },
      "source": [
        "env = gym.make('CartPole-v1')"
      ],
      "execution_count": null,
      "outputs": []
    },
    {
      "cell_type": "markdown",
      "metadata": {
        "id": "9bnFcquhQgrq"
      },
      "source": [
        "Let's initialize the environment by calling is `reset()` method. This returns an observation:"
      ]
    },
    {
      "cell_type": "code",
      "metadata": {
        "id": "Ka-bS2g7Qgrr"
      },
      "source": [
        "env.seed(42)\n",
        "obs = env.reset()"
      ],
      "execution_count": null,
      "outputs": []
    },
    {
      "cell_type": "markdown",
      "metadata": {
        "id": "a8ksK3UrQgrr"
      },
      "source": [
        "Observations vary depending on the environment. In this case it is a 1D NumPy array composed of 4 floats: they represent the cart's horizontal position, its velocity, the angle of the pole (0 = vertical), and the angular velocity."
      ]
    },
    {
      "cell_type": "code",
      "metadata": {
        "id": "E2aZrQ4XQgrs"
      },
      "source": [
        "obs"
      ],
      "execution_count": null,
      "outputs": []
    },
    {
      "cell_type": "markdown",
      "metadata": {
        "id": "DJOd1BHuQgrt"
      },
      "source": [
        "An environment can be visualized by calling its `render()` method, and you can pick the rendering mode (the rendering options depend on the environment)."
      ]
    },
    {
      "cell_type": "markdown",
      "metadata": {
        "id": "MKp8HYgeQgrt"
      },
      "source": [
        "**Warning**: some environments (including the Cart-Pole) require access to your display, which opens up a separate window, even if you specify `mode=\"rgb_array\"`. In general you can safely ignore that window. However, if Jupyter is running on a headless server (ie. without a screen) it will raise an exception. One way to avoid this is to install a fake X server like [Xvfb](http://en.wikipedia.org/wiki/Xvfb). On Debian or Ubuntu:\n",
        "\n",
        "```bash\n",
        "$ apt update\n",
        "$ apt install -y xvfb\n",
        "```\n",
        "\n",
        "You can then start Jupyter using the `xvfb-run` command:\n",
        "\n",
        "```bash\n",
        "$ xvfb-run -s \"-screen 0 1400x900x24\" jupyter notebook\n",
        "```\n",
        "\n",
        "Alternatively, you can install the [pyvirtualdisplay](https://github.com/ponty/pyvirtualdisplay) Python library which wraps Xvfb:\n",
        "\n",
        "```bash\n",
        "python3 -m pip install -U pyvirtualdisplay\n",
        "```\n",
        "\n",
        "And run the following code:"
      ]
    },
    {
      "cell_type": "code",
      "metadata": {
        "id": "bDdv-ZQ7Qgru"
      },
      "source": [
        "try:\n",
        "    import pyvirtualdisplay\n",
        "    display = pyvirtualdisplay.Display(visible=0, size=(1400, 900)).start()\n",
        "except ImportError:\n",
        "    pass"
      ],
      "execution_count": null,
      "outputs": []
    },
    {
      "cell_type": "code",
      "metadata": {
        "id": "J2a3Td7EQgru"
      },
      "source": [
        "env.render()"
      ],
      "execution_count": null,
      "outputs": []
    },
    {
      "cell_type": "markdown",
      "metadata": {
        "id": "9ZDjYTXdQgrv"
      },
      "source": [
        "In this example we will set `mode=\"rgb_array\"` to get an image of the environment as a NumPy array:"
      ]
    },
    {
      "cell_type": "code",
      "metadata": {
        "id": "UdakQXo-Qgrv"
      },
      "source": [
        "img = env.render(mode=\"rgb_array\")\n",
        "img.shape"
      ],
      "execution_count": null,
      "outputs": []
    },
    {
      "cell_type": "code",
      "metadata": {
        "id": "QRQxTspdQgrw"
      },
      "source": [
        "def plot_environment(env, figsize=(5,4)):\n",
        "    plt.figure(figsize=figsize)\n",
        "    img = env.render(mode=\"rgb_array\")\n",
        "    plt.imshow(img)\n",
        "    plt.axis(\"off\")\n",
        "    return img"
      ],
      "execution_count": null,
      "outputs": []
    },
    {
      "cell_type": "code",
      "metadata": {
        "id": "z6vJ_K9AQgrx"
      },
      "source": [
        "plot_environment(env)\n",
        "plt.show()"
      ],
      "execution_count": null,
      "outputs": []
    },
    {
      "cell_type": "markdown",
      "metadata": {
        "id": "cbRESKdMQgrx"
      },
      "source": [
        "Let's see how to interact with an environment. Your agent will need to select an action from an \"action space\" (the set of possible actions). Let's see what this environment's action space looks like:"
      ]
    },
    {
      "cell_type": "code",
      "metadata": {
        "id": "1e4ijoEwQgry"
      },
      "source": [
        "env.action_space"
      ],
      "execution_count": null,
      "outputs": []
    },
    {
      "cell_type": "markdown",
      "metadata": {
        "id": "zOXKaQIhQgry"
      },
      "source": [
        "Yep, just two possible actions: accelerate towards the left or towards the right."
      ]
    },
    {
      "cell_type": "markdown",
      "metadata": {
        "id": "y1dFXWiRQgrz"
      },
      "source": [
        "Since the pole is leaning toward the right (`obs[2] > 0`), let's accelerate the cart toward the right:"
      ]
    },
    {
      "cell_type": "code",
      "metadata": {
        "id": "OTH0SVI9Qgrz"
      },
      "source": [
        "action = 1  # accelerate right\n",
        "obs, reward, done, info = env.step(action)\n",
        "obs"
      ],
      "execution_count": null,
      "outputs": []
    },
    {
      "cell_type": "markdown",
      "metadata": {
        "id": "woFGwRp3Qgr0"
      },
      "source": [
        "Notice that the cart is now moving toward the right (`obs[1] > 0`). The pole is still tilted toward the right (`obs[2] > 0`), but its angular velocity is now negative (`obs[3] < 0`), so it will likely be tilted toward the left after the next step."
      ]
    },
    {
      "cell_type": "code",
      "metadata": {
        "id": "mYfgylnYQgr0"
      },
      "source": [
        "plot_environment(env)\n",
        "save_fig(\"cart_pole_plot\")"
      ],
      "execution_count": null,
      "outputs": []
    },
    {
      "cell_type": "markdown",
      "metadata": {
        "id": "TxxMLyTgQgr1"
      },
      "source": [
        "Looks like it's doing what we're telling it to do!"
      ]
    },
    {
      "cell_type": "markdown",
      "metadata": {
        "id": "Gs0GBx9MQgr1"
      },
      "source": [
        "The environment also tells the agent how much reward it got during the last step:"
      ]
    },
    {
      "cell_type": "code",
      "metadata": {
        "id": "6A3ecBXQQgr1"
      },
      "source": [
        "reward"
      ],
      "execution_count": null,
      "outputs": []
    },
    {
      "cell_type": "markdown",
      "metadata": {
        "id": "7qsWoEyVQgr2"
      },
      "source": [
        "When the game is over, the environment returns `done=True`:"
      ]
    },
    {
      "cell_type": "code",
      "metadata": {
        "id": "T0J5TuGgQgr2"
      },
      "source": [
        "done"
      ],
      "execution_count": null,
      "outputs": []
    },
    {
      "cell_type": "markdown",
      "metadata": {
        "id": "kcB8Fll5Qgr3"
      },
      "source": [
        "Finally, `info` is an environment-specific dictionary that can provide some extra information that you may find useful for debugging or for training. For example, in some games it may indicate how many lives the agent has."
      ]
    },
    {
      "cell_type": "code",
      "metadata": {
        "id": "fONQQ-t1Qgr3"
      },
      "source": [
        "info"
      ],
      "execution_count": null,
      "outputs": []
    },
    {
      "cell_type": "markdown",
      "metadata": {
        "id": "SNXQ5CC6Qgr3"
      },
      "source": [
        "The sequence of steps between the moment the environment is reset until it is done is called an \"episode\". At the end of an episode (i.e., when `step()` returns `done=True`), you should reset the environment before you continue to use it."
      ]
    },
    {
      "cell_type": "code",
      "metadata": {
        "id": "oQ4IFR5ZQgr4"
      },
      "source": [
        "if done:\n",
        "    obs = env.reset()"
      ],
      "execution_count": null,
      "outputs": []
    },
    {
      "cell_type": "markdown",
      "metadata": {
        "id": "qsPcoGTLQgr4"
      },
      "source": [
        "Now how can we make the poll remain upright? We will need to define a _policy_ for that. This is the strategy that the agent will use to select an action at each step. It can use all the past actions and observations to decide what to do."
      ]
    },
    {
      "cell_type": "markdown",
      "metadata": {
        "id": "6mnhS9qRQgr4"
      },
      "source": [
        "# A simple hard-coded policy"
      ]
    },
    {
      "cell_type": "markdown",
      "metadata": {
        "id": "GO2vuVfRQgr4"
      },
      "source": [
        "Let's hard code a simple strategy: if the pole is tilting to the left, then push the cart to the left, and _vice versa_. Let's see if that works:"
      ]
    },
    {
      "cell_type": "code",
      "metadata": {
        "id": "iRuKzkrtQgr5"
      },
      "source": [
        "env.seed(42)\n",
        "\n",
        "def basic_policy(obs):\n",
        "    angle = obs[2]\n",
        "    return 0 if angle < 0 else 1\n",
        "\n",
        "totals = []\n",
        "for episode in range(500):\n",
        "    episode_rewards = 0\n",
        "    obs = env.reset()\n",
        "    for step in range(200):\n",
        "        action = basic_policy(obs)\n",
        "        obs, reward, done, info = env.step(action)\n",
        "        episode_rewards += reward\n",
        "        if done:\n",
        "            break\n",
        "    totals.append(episode_rewards)"
      ],
      "execution_count": null,
      "outputs": []
    },
    {
      "cell_type": "code",
      "metadata": {
        "id": "QyiUsXbEQgr5"
      },
      "source": [
        "np.mean(totals), np.std(totals), np.min(totals), np.max(totals)"
      ],
      "execution_count": null,
      "outputs": []
    },
    {
      "cell_type": "markdown",
      "metadata": {
        "id": "jxEfSYj_Qgr6"
      },
      "source": [
        "Well, as expected, this strategy is a bit too basic: the best it did was to keep the poll up for only 68 steps. This environment is considered solved when the agent keeps the poll up for 200 steps."
      ]
    },
    {
      "cell_type": "markdown",
      "metadata": {
        "id": "ncxQFQgMQgr6"
      },
      "source": [
        "Let's visualize one episode:"
      ]
    },
    {
      "cell_type": "code",
      "metadata": {
        "id": "79xO3wluQgr6"
      },
      "source": [
        "env.seed(42)\n",
        "\n",
        "frames = []\n",
        "\n",
        "obs = env.reset()\n",
        "for step in range(200):\n",
        "    img = env.render(mode=\"rgb_array\")\n",
        "    frames.append(img)\n",
        "    action = basic_policy(obs)\n",
        "\n",
        "    obs, reward, done, info = env.step(action)\n",
        "    if done:\n",
        "        break"
      ],
      "execution_count": null,
      "outputs": []
    },
    {
      "cell_type": "markdown",
      "metadata": {
        "id": "zgsjAP_FQgr7"
      },
      "source": [
        "Now show the animation:"
      ]
    },
    {
      "cell_type": "code",
      "metadata": {
        "id": "ZbVHtdhDQgr7"
      },
      "source": [
        "def update_scene(num, frames, patch):\n",
        "    patch.set_data(frames[num])\n",
        "    return patch,\n",
        "\n",
        "def plot_animation(frames, repeat=False, interval=40):\n",
        "    fig = plt.figure()\n",
        "    patch = plt.imshow(frames[0])\n",
        "    plt.axis('off')\n",
        "    anim = animation.FuncAnimation(\n",
        "        fig, update_scene, fargs=(frames, patch),\n",
        "        frames=len(frames), repeat=repeat, interval=interval)\n",
        "    plt.close()\n",
        "    return anim"
      ],
      "execution_count": null,
      "outputs": []
    },
    {
      "cell_type": "code",
      "metadata": {
        "id": "rryADe15Qgr7"
      },
      "source": [
        "plot_animation(frames)"
      ],
      "execution_count": null,
      "outputs": []
    },
    {
      "cell_type": "markdown",
      "metadata": {
        "id": "ohViE__fQgr7"
      },
      "source": [
        "Clearly the system is unstable and after just a few wobbles, the pole ends up too tilted: game over. We will need to be smarter than that!"
      ]
    },
    {
      "cell_type": "markdown",
      "metadata": {
        "id": "Mu2tAFLDQgr8"
      },
      "source": [
        "# Neural Network Policies"
      ]
    },
    {
      "cell_type": "markdown",
      "metadata": {
        "id": "a-8rjjoIQgr8"
      },
      "source": [
        "Let's create a neural network that will take observations as inputs, and output the probabilities of actions to take for each observation. To choose an action, the network will estimate a probability for each action, then we will select an action randomly according to the estimated probabilities. In the case of the Cart-Pole environment, there are just two possible actions (left or right), so we only need one output neuron: it will output the probability `p` of the action 0 (left), and of course the probability of action 1 (right) will be `1 - p`."
      ]
    },
    {
      "cell_type": "code",
      "metadata": {
        "id": "Px74_j7UQgr8"
      },
      "source": [
        "keras.backend.clear_session()\n",
        "tf.random.set_seed(42)\n",
        "np.random.seed(42)\n",
        "\n",
        "n_inputs = 4 # == env.observation_space.shape[0]\n",
        "\n",
        "model = keras.models.Sequential([\n",
        "    keras.layers.Dense(5, activation=\"elu\", input_shape=[n_inputs]),\n",
        "    keras.layers.Dense(1, activation=\"sigmoid\"),\n",
        "])"
      ],
      "execution_count": null,
      "outputs": []
    },
    {
      "cell_type": "markdown",
      "metadata": {
        "id": "nFOC_RqzQgr9"
      },
      "source": [
        "In this particular environment, the past actions and observations can safely be ignored, since each observation contains the environment's full state. If there were some hidden state then you may need to consider past actions and observations in order to try to infer the hidden state of the environment. For example, if the environment only revealed the position of the cart but not its velocity, you would have to consider not only the current observation but also the previous observation in order to estimate the current velocity. Another example is if the observations are noisy: you may want to use the past few observations to estimate the most likely current state. Our problem is thus as simple as can be: the current observation is noise-free and contains the environment's full state."
      ]
    },
    {
      "cell_type": "markdown",
      "metadata": {
        "id": "p6ZKfurLQgr9"
      },
      "source": [
        "You may wonder why we plan to pick a random action based on the probability given by the policy network, rather than just picking the action with the highest probability. This approach lets the agent find the right balance between _exploring_ new actions and _exploiting_ the actions that are known to work well. Here's an analogy: suppose you go to a restaurant for the first time, and all the dishes look equally appealing so you randomly pick one. If it turns out to be good, you can increase the probability to order it next time, but you shouldn't increase that probability to 100%, or else you will never try out the other dishes, some of which may be even better than the one you tried."
      ]
    },
    {
      "cell_type": "markdown",
      "metadata": {
        "id": "DhagrK7JQgr-"
      },
      "source": [
        "Let's write a small function that will run the model to play one episode, and return the frames so we can display an animation:"
      ]
    },
    {
      "cell_type": "code",
      "metadata": {
        "id": "lGupA7NfQgr_"
      },
      "source": [
        "def render_policy_net(model, n_max_steps=200, seed=42):\n",
        "    frames = []\n",
        "    env = gym.make(\"CartPole-v1\")\n",
        "    env.seed(seed)\n",
        "    np.random.seed(seed)\n",
        "    obs = env.reset()\n",
        "    for step in range(n_max_steps):\n",
        "        frames.append(env.render(mode=\"rgb_array\"))\n",
        "        left_proba = model.predict(obs.reshape(1, -1))\n",
        "        action = int(np.random.rand() > left_proba)\n",
        "        obs, reward, done, info = env.step(action)\n",
        "        if done:\n",
        "            break\n",
        "    env.close()\n",
        "    return frames"
      ],
      "execution_count": null,
      "outputs": []
    },
    {
      "cell_type": "markdown",
      "metadata": {
        "id": "Y4Gbl63zQgr_"
      },
      "source": [
        "Now let's look at how well this randomly initialized policy network performs:"
      ]
    },
    {
      "cell_type": "code",
      "metadata": {
        "id": "yKwnLrepQgsA"
      },
      "source": [
        "frames = render_policy_net(model)\n",
        "plot_animation(frames)"
      ],
      "execution_count": null,
      "outputs": []
    },
    {
      "cell_type": "markdown",
      "metadata": {
        "id": "_foIqrmwQgsA"
      },
      "source": [
        "Yeah... pretty bad. The neural network will have to learn to do better. First let's see if it is capable of learning the basic policy we used earlier: go left if the pole is tilting left, and go right if it is tilting right."
      ]
    },
    {
      "cell_type": "markdown",
      "metadata": {
        "id": "pKxND3J3QgsB"
      },
      "source": [
        "We can make the same net play in 50 different environments in parallel (this will give us a diverse training batch at each step), and train for 5000 iterations. We also reset environments when they are done. We train the model using a custom training loop so we can easily use the predictions at each training step to advance the environments."
      ]
    },
    {
      "cell_type": "code",
      "metadata": {
        "id": "wjJgL-vSQgsB"
      },
      "source": [
        "n_environments = 50\n",
        "n_iterations = 5000\n",
        "\n",
        "envs = [gym.make(\"CartPole-v1\") for _ in range(n_environments)]\n",
        "for index, env in enumerate(envs):\n",
        "    env.seed(index)\n",
        "np.random.seed(42)\n",
        "observations = [env.reset() for env in envs]\n",
        "optimizer = keras.optimizers.RMSprop()\n",
        "loss_fn = keras.losses.binary_crossentropy\n",
        "\n",
        "for iteration in range(n_iterations):\n",
        "    # if angle < 0, we want proba(left) = 1., or else proba(left) = 0.\n",
        "    target_probas = np.array([([1.] if obs[2] < 0 else [0.])\n",
        "                              for obs in observations])\n",
        "    with tf.GradientTape() as tape:\n",
        "        left_probas = model(np.array(observations))\n",
        "        loss = tf.reduce_mean(loss_fn(target_probas, left_probas))\n",
        "    print(\"\\rIteration: {}, Loss: {:.3f}\".format(iteration, loss.numpy()), end=\"\")\n",
        "    grads = tape.gradient(loss, model.trainable_variables)\n",
        "    optimizer.apply_gradients(zip(grads, model.trainable_variables))\n",
        "    actions = (np.random.rand(n_environments, 1) > left_probas.numpy()).astype(np.int32)\n",
        "    for env_index, env in enumerate(envs):\n",
        "        obs, reward, done, info = env.step(actions[env_index][0])\n",
        "        observations[env_index] = obs if not done else env.reset()\n",
        "\n",
        "for env in envs:\n",
        "    env.close()"
      ],
      "execution_count": null,
      "outputs": []
    },
    {
      "cell_type": "code",
      "metadata": {
        "id": "A-i2XceBQgsC"
      },
      "source": [
        "frames = render_policy_net(model)\n",
        "plot_animation(frames)"
      ],
      "execution_count": null,
      "outputs": []
    },
    {
      "cell_type": "markdown",
      "metadata": {
        "id": "0RC1bs0CQgsC"
      },
      "source": [
        "Looks like it learned the policy correctly. Now let's see if it can learn a better policy on its own. One that does not wobble as much."
      ]
    },
    {
      "cell_type": "markdown",
      "metadata": {
        "id": "yRv5ZqSUQgsD"
      },
      "source": [
        "# Policy Gradients"
      ]
    },
    {
      "cell_type": "markdown",
      "metadata": {
        "id": "CHdU_kVdQgsD"
      },
      "source": [
        "To train this neural network we will need to define the target probabilities `y`. If an action is good we should increase its probability, and conversely if it is bad we should reduce it. But how do we know whether an action is good or bad? The problem is that most actions have delayed effects, so when you win or lose points in an episode, it is not clear which actions contributed to this result: was it just the last action? Or the last 10? Or just one action 50 steps earlier? This is called the _credit assignment problem_.\n",
        "\n",
        "The _Policy Gradients_ algorithm tackles this problem by first playing multiple episodes, then making the actions in good episodes slightly more likely, while actions in bad episodes are made slightly less likely. First we play, then we go back and think about what we did."
      ]
    },
    {
      "cell_type": "markdown",
      "metadata": {
        "id": "60m8ZdfkQgsE"
      },
      "source": [
        "Let's start by creating a function to play a single step using the model. We will also pretend for now that whatever action it takes is the right one, so we can compute the loss and its gradients (we will just save these gradients for now, and modify them later depending on how good or bad the action turned out to be):"
      ]
    },
    {
      "cell_type": "code",
      "metadata": {
        "id": "tVxX4KSzQgsE"
      },
      "source": [
        "def play_one_step(env, obs, model, loss_fn):\n",
        "    with tf.GradientTape() as tape:\n",
        "        left_proba = model(obs[np.newaxis])\n",
        "        action = (tf.random.uniform([1, 1]) > left_proba)\n",
        "        y_target = tf.constant([[1.]]) - tf.cast(action, tf.float32)\n",
        "        loss = tf.reduce_mean(loss_fn(y_target, left_proba))\n",
        "    grads = tape.gradient(loss, model.trainable_variables)\n",
        "    obs, reward, done, info = env.step(int(action[0, 0].numpy()))\n",
        "    return obs, reward, done, grads"
      ],
      "execution_count": null,
      "outputs": []
    },
    {
      "cell_type": "markdown",
      "metadata": {
        "id": "7qwOzrtVQgsJ"
      },
      "source": [
        "If `left_proba` is high, then `action` will most likely be `False` (since a random number uniformally sampled between 0 and 1 will probably not be greater than `left_proba`). And `False` means 0 when you cast it to a number, so `y_target` would be equal to 1 - 0 = 1. In other words, we set the target to 1, meaning we pretend that the probability of going left should have been 100% (so we took the right action)."
      ]
    },
    {
      "cell_type": "markdown",
      "metadata": {
        "id": "g5nKfNFYQgsJ"
      },
      "source": [
        "Now let's create another function that will rely on the `play_one_step()` function to play multiple episodes, returning all the rewards and gradients, for each episode and each step:"
      ]
    },
    {
      "cell_type": "code",
      "metadata": {
        "id": "oIcgH6ZCQgsK"
      },
      "source": [
        "def play_multiple_episodes(env, n_episodes, n_max_steps, model, loss_fn):\n",
        "    all_rewards = []\n",
        "    all_grads = []\n",
        "    for episode in range(n_episodes):\n",
        "        current_rewards = []\n",
        "        current_grads = []\n",
        "        obs = env.reset()\n",
        "        for step in range(n_max_steps):\n",
        "            obs, reward, done, grads = play_one_step(env, obs, model, loss_fn)\n",
        "            current_rewards.append(reward)\n",
        "            current_grads.append(grads)\n",
        "            if done:\n",
        "                break\n",
        "        all_rewards.append(current_rewards)\n",
        "        all_grads.append(current_grads)\n",
        "    return all_rewards, all_grads"
      ],
      "execution_count": null,
      "outputs": []
    },
    {
      "cell_type": "markdown",
      "metadata": {
        "id": "vuCKIDveQgsK"
      },
      "source": [
        "The Policy Gradients algorithm uses the model to play the episode several times (e.g., 10 times), then it goes back and looks at all the rewards, discounts them and normalizes them. So let's create couple functions for that: the first will compute discounted rewards; the second will normalize the discounted rewards across many episodes."
      ]
    },
    {
      "cell_type": "code",
      "metadata": {
        "id": "DJTSNUdxQgsL"
      },
      "source": [
        "def discount_rewards(rewards, discount_rate):\n",
        "    discounted = np.array(rewards)\n",
        "    for step in range(len(rewards) - 2, -1, -1):\n",
        "        discounted[step] += discounted[step + 1] * discount_rate\n",
        "    return discounted\n",
        "\n",
        "def discount_and_normalize_rewards(all_rewards, discount_rate):\n",
        "    all_discounted_rewards = [discount_rewards(rewards, discount_rate)\n",
        "                              for rewards in all_rewards]\n",
        "    flat_rewards = np.concatenate(all_discounted_rewards)\n",
        "    reward_mean = flat_rewards.mean()\n",
        "    reward_std = flat_rewards.std()\n",
        "    return [(discounted_rewards - reward_mean) / reward_std\n",
        "            for discounted_rewards in all_discounted_rewards]"
      ],
      "execution_count": null,
      "outputs": []
    },
    {
      "cell_type": "markdown",
      "metadata": {
        "id": "H0lMYl_5QgsL"
      },
      "source": [
        "Say there were 3 actions, and after each action there was a reward: first 10, then 0, then -50. If we use a discount factor of 80%, then the 3rd action will get -50 (full credit for the last reward), but the 2nd action will only get -40 (80% credit for the last reward), and the 1st action will get 80% of -40 (-32) plus full credit for the first reward (+10), which leads to a discounted reward of -22:"
      ]
    },
    {
      "cell_type": "code",
      "metadata": {
        "id": "q3KxK4TCQgsL"
      },
      "source": [
        "discount_rewards([10, 0, -50], discount_rate=0.8)"
      ],
      "execution_count": null,
      "outputs": []
    },
    {
      "cell_type": "markdown",
      "metadata": {
        "id": "T1UQHm-IQgsM"
      },
      "source": [
        "To normalize all discounted rewards across all episodes, we compute the mean and standard deviation of all the discounted rewards, and we subtract the mean from each discounted reward, and divide by the standard deviation:"
      ]
    },
    {
      "cell_type": "code",
      "metadata": {
        "scrolled": true,
        "id": "hG7NYUAwQgsM"
      },
      "source": [
        "discount_and_normalize_rewards([[10, 0, -50], [10, 20]], discount_rate=0.8)"
      ],
      "execution_count": null,
      "outputs": []
    },
    {
      "cell_type": "code",
      "metadata": {
        "id": "86y8w7LZQgsM"
      },
      "source": [
        "n_iterations = 150\n",
        "n_episodes_per_update = 10\n",
        "n_max_steps = 200\n",
        "discount_rate = 0.95"
      ],
      "execution_count": null,
      "outputs": []
    },
    {
      "cell_type": "code",
      "metadata": {
        "id": "ckbXtwBSQgsN"
      },
      "source": [
        "optimizer = keras.optimizers.Adam(lr=0.01)\n",
        "loss_fn = keras.losses.binary_crossentropy"
      ],
      "execution_count": null,
      "outputs": []
    },
    {
      "cell_type": "code",
      "metadata": {
        "id": "WuhCqSTEQgsN"
      },
      "source": [
        "keras.backend.clear_session()\n",
        "np.random.seed(42)\n",
        "tf.random.set_seed(42)\n",
        "\n",
        "model = keras.models.Sequential([\n",
        "    keras.layers.Dense(5, activation=\"elu\", input_shape=[4]),\n",
        "    keras.layers.Dense(1, activation=\"sigmoid\"),\n",
        "])"
      ],
      "execution_count": null,
      "outputs": []
    },
    {
      "cell_type": "code",
      "metadata": {
        "id": "gfP1BaHjQgsN",
        "colab": {
          "base_uri": "https://localhost:8080/"
        },
        "outputId": "c92948d0-620c-4d2a-b92c-249c228a1099"
      },
      "source": [
        "env = gym.make(\"CartPole-v1\")\n",
        "env.seed(42);\n",
        "\n",
        "for iteration in range(n_iterations):\n",
        "    all_rewards, all_grads = play_multiple_episodes(\n",
        "        env, n_episodes_per_update, n_max_steps, model, loss_fn)\n",
        "    total_rewards = sum(map(sum, all_rewards))                     # Not shown in the book\n",
        "    print(\"\\rIteration: {}, mean rewards: {:.1f}\".format(          # Not shown\n",
        "        iteration, total_rewards / n_episodes_per_update), end=\"\") # Not shown\n",
        "    all_final_rewards = discount_and_normalize_rewards(all_rewards,\n",
        "                                                       discount_rate)\n",
        "    all_mean_grads = []\n",
        "    for var_index in range(len(model.trainable_variables)):\n",
        "        mean_grads = tf.reduce_mean(\n",
        "            [final_reward * all_grads[episode_index][step][var_index]\n",
        "             for episode_index, final_rewards in enumerate(all_final_rewards)\n",
        "                 for step, final_reward in enumerate(final_rewards)], axis=0)\n",
        "        all_mean_grads.append(mean_grads)\n",
        "    optimizer.apply_gradients(zip(all_mean_grads, model.trainable_variables))\n",
        "\n",
        "env.close()"
      ],
      "execution_count": null,
      "outputs": [
        {
          "output_type": "stream",
          "text": [
            "Iteration: 134, mean rewards: 176.0"
          ],
          "name": "stdout"
        }
      ]
    },
    {
      "cell_type": "code",
      "metadata": {
        "id": "QhvPfThFQgsO"
      },
      "source": [
        "frames = render_policy_net(model)\n",
        "plot_animation(frames)"
      ],
      "execution_count": null,
      "outputs": []
    },
    {
      "cell_type": "markdown",
      "metadata": {
        "id": "hg9YkzhuQgsO"
      },
      "source": [
        "# Markov Chains"
      ]
    },
    {
      "cell_type": "code",
      "metadata": {
        "id": "NnHe1PYtQgsO"
      },
      "source": [
        "np.random.seed(42)\n",
        "\n",
        "transition_probabilities = [ # shape=[s, s']\n",
        "        [0.7, 0.2, 0.0, 0.1],  # from s0 to s0, s1, s2, s3\n",
        "        [0.0, 0.0, 0.9, 0.1],  # from s1 to ...\n",
        "        [0.0, 1.0, 0.0, 0.0],  # from s2 to ...\n",
        "        [0.0, 0.0, 0.0, 1.0]]  # from s3 to ...\n",
        "\n",
        "n_max_steps = 50\n",
        "\n",
        "def print_sequence():\n",
        "    current_state = 0\n",
        "    print(\"States:\", end=\" \")\n",
        "    for step in range(n_max_steps):\n",
        "        print(current_state, end=\" \")\n",
        "        if current_state == 3:\n",
        "            break\n",
        "        current_state = np.random.choice(range(4), p=transition_probabilities[current_state])\n",
        "    else:\n",
        "        print(\"...\", end=\"\")\n",
        "    print()\n",
        "\n",
        "for _ in range(10):\n",
        "    print_sequence()"
      ],
      "execution_count": null,
      "outputs": []
    },
    {
      "cell_type": "markdown",
      "metadata": {
        "id": "B54G4iFPQgsP"
      },
      "source": [
        "# Markov Decision Process"
      ]
    },
    {
      "cell_type": "markdown",
      "metadata": {
        "id": "DHIFDp-yQgsP"
      },
      "source": [
        "Let's define some transition probabilities, rewards and possible actions. For example, in state s0, if action a0 is chosen then with proba 0.7 we will go to state s0 with reward +10, with probability 0.3 we will go to state s1 with no reward, and with never go to state s2 (so the transition probabilities are `[0.7, 0.3, 0.0]`, and the rewards are `[+10, 0, 0]`):"
      ]
    },
    {
      "cell_type": "code",
      "metadata": {
        "id": "zVsikRzZQgsQ"
      },
      "source": [
        "transition_probabilities = [ # shape=[s, a, s']\n",
        "        [[0.7, 0.3, 0.0], [1.0, 0.0, 0.0], [0.8, 0.2, 0.0]],\n",
        "        [[0.0, 1.0, 0.0], None, [0.0, 0.0, 1.0]],\n",
        "        [None, [0.8, 0.1, 0.1], None]]\n",
        "rewards = [ # shape=[s, a, s']\n",
        "        [[+10, 0, 0], [0, 0, 0], [0, 0, 0]],\n",
        "        [[0, 0, 0], [0, 0, 0], [0, 0, -50]],\n",
        "        [[0, 0, 0], [+40, 0, 0], [0, 0, 0]]]\n",
        "possible_actions = [[0, 1, 2], [0, 2], [1]]"
      ],
      "execution_count": null,
      "outputs": []
    },
    {
      "cell_type": "markdown",
      "metadata": {
        "id": "Qm5HvhbmQgsQ"
      },
      "source": [
        "# Q-Value Iteration"
      ]
    },
    {
      "cell_type": "code",
      "metadata": {
        "id": "ylJaS1srQgsQ"
      },
      "source": [
        "Q_values = np.full((3, 3), -np.inf) # -np.inf for impossible actions\n",
        "for state, actions in enumerate(possible_actions):\n",
        "    Q_values[state, actions] = 0.0  # for all possible actions"
      ],
      "execution_count": null,
      "outputs": []
    },
    {
      "cell_type": "code",
      "metadata": {
        "id": "SStZwRSjQgsR"
      },
      "source": [
        "gamma = 0.90  # the discount factor\n",
        "\n",
        "history1 = [] # Not shown in the book (for the figure below)\n",
        "for iteration in range(50):\n",
        "    Q_prev = Q_values.copy()\n",
        "    history1.append(Q_prev) # Not shown\n",
        "    for s in range(3):\n",
        "        for a in possible_actions[s]:\n",
        "            Q_values[s, a] = np.sum([\n",
        "                    transition_probabilities[s][a][sp]\n",
        "                    * (rewards[s][a][sp] + gamma * np.max(Q_prev[sp]))\n",
        "                for sp in range(3)])\n",
        "\n",
        "history1 = np.array(history1) # Not shown"
      ],
      "execution_count": null,
      "outputs": []
    },
    {
      "cell_type": "code",
      "metadata": {
        "id": "TEXHX4sAQgsR"
      },
      "source": [
        "Q_values"
      ],
      "execution_count": null,
      "outputs": []
    },
    {
      "cell_type": "code",
      "metadata": {
        "id": "rmFWa7B6QgsR"
      },
      "source": [
        "np.argmax(Q_values, axis=1)"
      ],
      "execution_count": null,
      "outputs": []
    },
    {
      "cell_type": "markdown",
      "metadata": {
        "id": "sezdDxuSQgsS"
      },
      "source": [
        "The optimal policy for this MDP, when using a discount factor of 0.90, is to choose action a0 when in state s0, and choose action a0 when in state s1, and finally choose action a1 (the only possible action) when in state s2."
      ]
    },
    {
      "cell_type": "markdown",
      "metadata": {
        "id": "sfY1bRBGQgsS"
      },
      "source": [
        "Let's try again with a discount factor of 0.95:"
      ]
    },
    {
      "cell_type": "code",
      "metadata": {
        "id": "reZHhX2mQgsS"
      },
      "source": [
        "Q_values = np.full((3, 3), -np.inf) # -np.inf for impossible actions\n",
        "for state, actions in enumerate(possible_actions):\n",
        "    Q_values[state, actions] = 0.0  # for all possible actions"
      ],
      "execution_count": null,
      "outputs": []
    },
    {
      "cell_type": "code",
      "metadata": {
        "id": "WaCfGB3NQgsT"
      },
      "source": [
        "gamma = 0.95  # the discount factor\n",
        "\n",
        "for iteration in range(50):\n",
        "    Q_prev = Q_values.copy()\n",
        "    for s in range(3):\n",
        "        for a in possible_actions[s]:\n",
        "            Q_values[s, a] = np.sum([\n",
        "                    transition_probabilities[s][a][sp]\n",
        "                    * (rewards[s][a][sp] + gamma * np.max(Q_prev[sp]))\n",
        "                for sp in range(3)])"
      ],
      "execution_count": null,
      "outputs": []
    },
    {
      "cell_type": "code",
      "metadata": {
        "id": "MzZr2IuHQgsT"
      },
      "source": [
        "Q_values"
      ],
      "execution_count": null,
      "outputs": []
    },
    {
      "cell_type": "code",
      "metadata": {
        "id": "xBJbZ-D3QgsU"
      },
      "source": [
        "np.argmax(Q_values, axis=1)"
      ],
      "execution_count": null,
      "outputs": []
    },
    {
      "cell_type": "markdown",
      "metadata": {
        "id": "CiiIjg6zQgsU"
      },
      "source": [
        "Now the policy has changed! In state s1, we now prefer to go through the fire (choose action a2). This is because the discount factor is larger so the agent values the future more, and it is therefore ready to pay an immediate penalty in order to get more future rewards."
      ]
    },
    {
      "cell_type": "markdown",
      "metadata": {
        "id": "4LSsie3tQgsU"
      },
      "source": [
        "# Q-Learning"
      ]
    },
    {
      "cell_type": "markdown",
      "metadata": {
        "id": "rW9Q473LQgsV"
      },
      "source": [
        "Q-Learning works by watching an agent play (e.g., randomly) and gradually improving its estimates of the Q-Values. Once it has accurate Q-Value estimates (or close enough), then the optimal policy consists in choosing the action that has the highest Q-Value (i.e., the greedy policy)."
      ]
    },
    {
      "cell_type": "markdown",
      "metadata": {
        "id": "lZflm8ITQgsV"
      },
      "source": [
        "We will need to simulate an agent moving around in the environment, so let's define a function to perform some action and get the new state and a reward:"
      ]
    },
    {
      "cell_type": "code",
      "metadata": {
        "id": "GI0ggwE3QgsV"
      },
      "source": [
        "def step(state, action):\n",
        "    probas = transition_probabilities[state][action]\n",
        "    next_state = np.random.choice([0, 1, 2], p=probas)\n",
        "    reward = rewards[state][action][next_state]\n",
        "    return next_state, reward"
      ],
      "execution_count": null,
      "outputs": []
    },
    {
      "cell_type": "markdown",
      "metadata": {
        "id": "GKPqzGxnQgsW"
      },
      "source": [
        "We also need an exploration policy, which can be any policy, as long as it visits every possible state many times. We will just use a random policy, since the state space is very small:"
      ]
    },
    {
      "cell_type": "code",
      "metadata": {
        "id": "7f3J9N_PQgsW"
      },
      "source": [
        "def exploration_policy(state):\n",
        "    return np.random.choice(possible_actions[state])"
      ],
      "execution_count": null,
      "outputs": []
    },
    {
      "cell_type": "markdown",
      "metadata": {
        "id": "H474ctcdQgsW"
      },
      "source": [
        "Now let's initialize the Q-Values like earlier, and run the Q-Learning algorithm:"
      ]
    },
    {
      "cell_type": "code",
      "metadata": {
        "id": "6Tlicoc3QgsX"
      },
      "source": [
        "np.random.seed(42)\n",
        "\n",
        "Q_values = np.full((3, 3), -np.inf)\n",
        "for state, actions in enumerate(possible_actions):\n",
        "    Q_values[state][actions] = 0\n",
        "\n",
        "alpha0 = 0.05 # initial learning rate\n",
        "decay = 0.005 # learning rate decay\n",
        "gamma = 0.90 # discount factor\n",
        "state = 0 # initial state\n",
        "history2 = [] # Not shown in the book\n",
        "\n",
        "for iteration in range(10000):\n",
        "    history2.append(Q_values.copy()) # Not shown\n",
        "    action = exploration_policy(state)\n",
        "    next_state, reward = step(state, action)\n",
        "    next_value = np.max(Q_values[next_state]) # greedy policy at the next step\n",
        "    alpha = alpha0 / (1 + iteration * decay)\n",
        "    Q_values[state, action] *= 1 - alpha\n",
        "    Q_values[state, action] += alpha * (reward + gamma * next_value)\n",
        "    state = next_state\n",
        "\n",
        "history2 = np.array(history2) # Not shown"
      ],
      "execution_count": null,
      "outputs": []
    },
    {
      "cell_type": "code",
      "metadata": {
        "id": "wCAzxj2qQgsX"
      },
      "source": [
        "Q_values"
      ],
      "execution_count": null,
      "outputs": []
    },
    {
      "cell_type": "code",
      "metadata": {
        "id": "H-P1_gHxQgsY"
      },
      "source": [
        "np.argmax(Q_values, axis=1) # optimal action for each state"
      ],
      "execution_count": null,
      "outputs": []
    },
    {
      "cell_type": "code",
      "metadata": {
        "id": "SyMU1x-aQgsY"
      },
      "source": [
        "true_Q_value = history1[-1, 0, 0]\n",
        "\n",
        "fig, axes = plt.subplots(1, 2, figsize=(10, 4), sharey=True)\n",
        "axes[0].set_ylabel(\"Q-Value$(s_0, a_0)$\", fontsize=14)\n",
        "axes[0].set_title(\"Q-Value Iteration\", fontsize=14)\n",
        "axes[1].set_title(\"Q-Learning\", fontsize=14)\n",
        "for ax, width, history in zip(axes, (50, 10000), (history1, history2)):\n",
        "    ax.plot([0, width], [true_Q_value, true_Q_value], \"k--\")\n",
        "    ax.plot(np.arange(width), history[:, 0, 0], \"b-\", linewidth=2)\n",
        "    ax.set_xlabel(\"Iterations\", fontsize=14)\n",
        "    ax.axis([0, width, 0, 24])\n",
        "\n",
        "save_fig(\"q_value_plot\")"
      ],
      "execution_count": null,
      "outputs": []
    },
    {
      "cell_type": "markdown",
      "metadata": {
        "id": "uKYhELXaQgsZ"
      },
      "source": [
        "# Deep Q-Network"
      ]
    },
    {
      "cell_type": "markdown",
      "metadata": {
        "id": "etdPndhXQgsZ"
      },
      "source": [
        "Let's build the DQN. Given a state, it will estimate, for each possible action, the sum of discounted future rewards it can expect after it plays that action (but before it sees its outcome):"
      ]
    },
    {
      "cell_type": "code",
      "metadata": {
        "id": "aC-N5UHDQgsZ"
      },
      "source": [
        "keras.backend.clear_session()\n",
        "tf.random.set_seed(42)\n",
        "np.random.seed(42)\n",
        "\n",
        "env = gym.make(\"CartPole-v1\")\n",
        "input_shape = [4] # == env.observation_space.shape\n",
        "n_outputs = 2 # == env.action_space.n\n",
        "\n",
        "model = keras.models.Sequential([\n",
        "    keras.layers.Dense(32, activation=\"elu\", input_shape=input_shape),\n",
        "    keras.layers.Dense(32, activation=\"elu\"),\n",
        "    keras.layers.Dense(n_outputs)\n",
        "])"
      ],
      "execution_count": null,
      "outputs": []
    },
    {
      "cell_type": "markdown",
      "metadata": {
        "id": "QpmApH_dQgsa"
      },
      "source": [
        "To select an action using this DQN, we just pick the action with the largest predicted Q-value. However, to ensure that the agent explores the environment, we choose a random action with probability `epsilon`."
      ]
    },
    {
      "cell_type": "code",
      "metadata": {
        "id": "zX5_lRObQgsa"
      },
      "source": [
        "def epsilon_greedy_policy(state, epsilon=0):\n",
        "    if np.random.rand() < epsilon:\n",
        "        return np.random.randint(n_outputs)\n",
        "    else:\n",
        "        Q_values = model.predict(state[np.newaxis])\n",
        "        return np.argmax(Q_values[0])"
      ],
      "execution_count": null,
      "outputs": []
    },
    {
      "cell_type": "markdown",
      "metadata": {
        "id": "5YsLKENMQgsa"
      },
      "source": [
        "We will also need a replay memory. It will contain the agent's experiences, in the form of tuples: `(obs, action, reward, next_obs, done)`. We can use the `deque` class for that (but make sure to check out DeepMind's excellent [Reverb library](https://github.com/deepmind/reverb) for a much more robust implementation of experience replay):"
      ]
    },
    {
      "cell_type": "code",
      "metadata": {
        "id": "MlhOvhkxQgsb"
      },
      "source": [
        "from collections import deque\n",
        "\n",
        "replay_memory = deque(maxlen=2000)"
      ],
      "execution_count": null,
      "outputs": []
    },
    {
      "cell_type": "markdown",
      "metadata": {
        "id": "SCXovGccQgsb"
      },
      "source": [
        "And let's create a function to sample experiences from the replay memory. It will return 5 NumPy arrays: `[obs, actions, rewards, next_obs, dones]`."
      ]
    },
    {
      "cell_type": "code",
      "metadata": {
        "id": "HSsUUuSiQgsb"
      },
      "source": [
        "def sample_experiences(batch_size):\n",
        "    indices = np.random.randint(len(replay_memory), size=batch_size)\n",
        "    batch = [replay_memory[index] for index in indices]\n",
        "    states, actions, rewards, next_states, dones = [\n",
        "        np.array([experience[field_index] for experience in batch])\n",
        "        for field_index in range(5)]\n",
        "    return states, actions, rewards, next_states, dones"
      ],
      "execution_count": null,
      "outputs": []
    },
    {
      "cell_type": "markdown",
      "metadata": {
        "id": "cFoj_vaUQgsc"
      },
      "source": [
        "Now we can create a function that will use the DQN to play one step, and record its experience in the replay memory:"
      ]
    },
    {
      "cell_type": "code",
      "metadata": {
        "id": "USEt1_YOQgsc"
      },
      "source": [
        "def play_one_step(env, state, epsilon):\n",
        "    action = epsilon_greedy_policy(state, epsilon)\n",
        "    next_state, reward, done, info = env.step(action)\n",
        "    replay_memory.append((state, action, reward, next_state, done))\n",
        "    return next_state, reward, done, info"
      ],
      "execution_count": null,
      "outputs": []
    },
    {
      "cell_type": "markdown",
      "metadata": {
        "id": "tbzpQatTQgsc"
      },
      "source": [
        "Lastly, let's create a function that will sample some experiences from the replay memory and perform a training step:\n",
        "\n",
        "**Notes**:\n",
        "* The first 3 releases of the 2nd edition were missing the `reshape()` operation which converts `target_Q_values` to a column vector (this is required by the `loss_fn()`).\n",
        "* The book uses a learning rate of 1e-3, but in the code below I use 1e-2, as it significantly improves training. I also tuned the learning rates of the DQN variants below."
      ]
    },
    {
      "cell_type": "code",
      "metadata": {
        "id": "QOd9PF6UQgsd"
      },
      "source": [
        "batch_size = 32\n",
        "discount_rate = 0.95\n",
        "optimizer = keras.optimizers.Adam(lr=1e-2)\n",
        "loss_fn = keras.losses.mean_squared_error\n",
        "\n",
        "def training_step(batch_size):\n",
        "    experiences = sample_experiences(batch_size)\n",
        "    states, actions, rewards, next_states, dones = experiences\n",
        "    next_Q_values = model.predict(next_states)\n",
        "    max_next_Q_values = np.max(next_Q_values, axis=1)\n",
        "    target_Q_values = (rewards +\n",
        "                       (1 - dones) * discount_rate * max_next_Q_values)\n",
        "    target_Q_values = target_Q_values.reshape(-1, 1)\n",
        "    mask = tf.one_hot(actions, n_outputs)\n",
        "    with tf.GradientTape() as tape:\n",
        "        all_Q_values = model(states)\n",
        "        Q_values = tf.reduce_sum(all_Q_values * mask, axis=1, keepdims=True)\n",
        "        loss = tf.reduce_mean(loss_fn(target_Q_values, Q_values))\n",
        "    grads = tape.gradient(loss, model.trainable_variables)\n",
        "    optimizer.apply_gradients(zip(grads, model.trainable_variables))"
      ],
      "execution_count": null,
      "outputs": []
    },
    {
      "cell_type": "markdown",
      "metadata": {
        "id": "zqgR9vxLQgsd"
      },
      "source": [
        "And now, let's train the model!"
      ]
    },
    {
      "cell_type": "code",
      "metadata": {
        "id": "Y5kYuxLbQgsd"
      },
      "source": [
        "env.seed(42)\n",
        "np.random.seed(42)\n",
        "tf.random.set_seed(42)\n",
        "\n",
        "rewards = [] \n",
        "best_score = 0"
      ],
      "execution_count": null,
      "outputs": []
    },
    {
      "cell_type": "code",
      "metadata": {
        "scrolled": true,
        "id": "WoBHytjfQgse"
      },
      "source": [
        "for episode in range(600):\n",
        "    obs = env.reset()    \n",
        "    for step in range(200):\n",
        "        epsilon = max(1 - episode / 500, 0.01)\n",
        "        obs, reward, done, info = play_one_step(env, obs, epsilon)\n",
        "        if done:\n",
        "            break\n",
        "    rewards.append(step) # Not shown in the book\n",
        "    if step >= best_score: # Not shown\n",
        "        best_weights = model.get_weights() # Not shown\n",
        "        best_score = step # Not shown\n",
        "    print(\"\\rEpisode: {}, Steps: {}, eps: {:.3f}\".format(episode, step + 1, epsilon), end=\"\") # Not shown\n",
        "    if episode > 50:\n",
        "        training_step(batch_size)\n",
        "\n",
        "model.set_weights(best_weights)"
      ],
      "execution_count": null,
      "outputs": []
    },
    {
      "cell_type": "code",
      "metadata": {
        "id": "pAfAos5zQgsf"
      },
      "source": [
        "plt.figure(figsize=(8, 4))\n",
        "plt.plot(rewards)\n",
        "plt.xlabel(\"Episode\", fontsize=14)\n",
        "plt.ylabel(\"Sum of rewards\", fontsize=14)\n",
        "save_fig(\"dqn_rewards_plot\")\n",
        "plt.show()"
      ],
      "execution_count": null,
      "outputs": []
    },
    {
      "cell_type": "code",
      "metadata": {
        "id": "byA99Tn6Qgsf"
      },
      "source": [
        "env.seed(42)\n",
        "state = env.reset()\n",
        "\n",
        "frames = []\n",
        "\n",
        "for step in range(200):\n",
        "    action = epsilon_greedy_policy(state)\n",
        "    state, reward, done, info = env.step(action)\n",
        "    if done:\n",
        "        break\n",
        "    img = env.render(mode=\"rgb_array\")\n",
        "    frames.append(img)\n",
        "    \n",
        "plot_animation(frames)"
      ],
      "execution_count": null,
      "outputs": []
    },
    {
      "cell_type": "markdown",
      "metadata": {
        "id": "vJzmrl9tQgsg"
      },
      "source": [
        "Not bad at all! 😀"
      ]
    },
    {
      "cell_type": "markdown",
      "metadata": {
        "id": "CmhWMIdOQgsg"
      },
      "source": [
        "## Double DQN"
      ]
    },
    {
      "cell_type": "code",
      "metadata": {
        "id": "iaXdFID8Qgsh"
      },
      "source": [
        "keras.backend.clear_session()\n",
        "tf.random.set_seed(42)\n",
        "np.random.seed(42)\n",
        "\n",
        "model = keras.models.Sequential([\n",
        "    keras.layers.Dense(32, activation=\"elu\", input_shape=[4]),\n",
        "    keras.layers.Dense(32, activation=\"elu\"),\n",
        "    keras.layers.Dense(n_outputs)\n",
        "])\n",
        "\n",
        "target = keras.models.clone_model(model)\n",
        "target.set_weights(model.get_weights())"
      ],
      "execution_count": null,
      "outputs": []
    },
    {
      "cell_type": "code",
      "metadata": {
        "id": "sucsZK1gQgsh"
      },
      "source": [
        "batch_size = 32\n",
        "discount_rate = 0.95\n",
        "optimizer = keras.optimizers.Adam(lr=6e-3)\n",
        "loss_fn = keras.losses.Huber()\n",
        "\n",
        "def training_step(batch_size):\n",
        "    experiences = sample_experiences(batch_size)\n",
        "    states, actions, rewards, next_states, dones = experiences\n",
        "    next_Q_values = model.predict(next_states)\n",
        "    best_next_actions = np.argmax(next_Q_values, axis=1)\n",
        "    next_mask = tf.one_hot(best_next_actions, n_outputs).numpy()\n",
        "    next_best_Q_values = (target.predict(next_states) * next_mask).sum(axis=1)\n",
        "    target_Q_values = (rewards + \n",
        "                       (1 - dones) * discount_rate * next_best_Q_values)\n",
        "    target_Q_values = target_Q_values.reshape(-1, 1)\n",
        "    mask = tf.one_hot(actions, n_outputs)\n",
        "    with tf.GradientTape() as tape:\n",
        "        all_Q_values = model(states)\n",
        "        Q_values = tf.reduce_sum(all_Q_values * mask, axis=1, keepdims=True)\n",
        "        loss = tf.reduce_mean(loss_fn(target_Q_values, Q_values))\n",
        "    grads = tape.gradient(loss, model.trainable_variables)\n",
        "    optimizer.apply_gradients(zip(grads, model.trainable_variables))"
      ],
      "execution_count": null,
      "outputs": []
    },
    {
      "cell_type": "code",
      "metadata": {
        "id": "kvH_J7ltQgsh"
      },
      "source": [
        "replay_memory = deque(maxlen=2000)"
      ],
      "execution_count": null,
      "outputs": []
    },
    {
      "cell_type": "code",
      "metadata": {
        "id": "Iy7atd52Qgsi"
      },
      "source": [
        "env.seed(42)\n",
        "np.random.seed(42)\n",
        "tf.random.set_seed(42)\n",
        "\n",
        "rewards = []\n",
        "best_score = 0\n",
        "\n",
        "for episode in range(600):\n",
        "    obs = env.reset()    \n",
        "    for step in range(200):\n",
        "        epsilon = max(1 - episode / 500, 0.01)\n",
        "        obs, reward, done, info = play_one_step(env, obs, epsilon)\n",
        "        if done:\n",
        "            break\n",
        "    rewards.append(step)\n",
        "    if step >= best_score:\n",
        "        best_weights = model.get_weights()\n",
        "        best_score = step\n",
        "    print(\"\\rEpisode: {}, Steps: {}, eps: {:.3f}\".format(episode, step + 1, epsilon), end=\"\")\n",
        "    if episode >= 50:\n",
        "        training_step(batch_size)\n",
        "        if episode % 50 == 0:\n",
        "            target.set_weights(model.get_weights())\n",
        "    # Alternatively, you can do soft updates at each step:\n",
        "    #if episode >= 50:\n",
        "        #target_weights = target.get_weights()\n",
        "        #online_weights = model.get_weights()\n",
        "        #for index in range(len(target_weights)):\n",
        "        #    target_weights[index] = 0.99 * target_weights[index] + 0.01 * online_weights[index]\n",
        "        #target.set_weights(target_weights)\n",
        "\n",
        "model.set_weights(best_weights)"
      ],
      "execution_count": null,
      "outputs": []
    },
    {
      "cell_type": "code",
      "metadata": {
        "id": "a247vUIoQgsi"
      },
      "source": [
        "plt.figure(figsize=(8, 4))\n",
        "plt.plot(rewards)\n",
        "plt.xlabel(\"Episode\", fontsize=14)\n",
        "plt.ylabel(\"Sum of rewards\", fontsize=14)\n",
        "save_fig(\"double_dqn_rewards_plot\")\n",
        "plt.show()"
      ],
      "execution_count": null,
      "outputs": []
    },
    {
      "cell_type": "code",
      "metadata": {
        "scrolled": true,
        "id": "m7NdZCMSQgsj"
      },
      "source": [
        "env.seed(43)\n",
        "state = env.reset()\n",
        "\n",
        "frames = []\n",
        "\n",
        "for step in range(200):\n",
        "    action = epsilon_greedy_policy(state)\n",
        "    state, reward, done, info = env.step(action)\n",
        "    if done:\n",
        "        break\n",
        "    img = env.render(mode=\"rgb_array\")\n",
        "    frames.append(img)\n",
        "   \n",
        "plot_animation(frames)"
      ],
      "execution_count": null,
      "outputs": []
    },
    {
      "cell_type": "markdown",
      "metadata": {
        "id": "rvYY9f5EQgsj"
      },
      "source": [
        "# Dueling Double DQN"
      ]
    },
    {
      "cell_type": "code",
      "metadata": {
        "id": "bL_Cu4BLQgsk"
      },
      "source": [
        "keras.backend.clear_session()\n",
        "tf.random.set_seed(42)\n",
        "np.random.seed(42)\n",
        "\n",
        "K = keras.backend\n",
        "input_states = keras.layers.Input(shape=[4])\n",
        "hidden1 = keras.layers.Dense(32, activation=\"elu\")(input_states)\n",
        "hidden2 = keras.layers.Dense(32, activation=\"elu\")(hidden1)\n",
        "state_values = keras.layers.Dense(1)(hidden2)\n",
        "raw_advantages = keras.layers.Dense(n_outputs)(hidden2)\n",
        "advantages = raw_advantages - K.max(raw_advantages, axis=1, keepdims=True)\n",
        "Q_values = state_values + advantages\n",
        "model = keras.models.Model(inputs=[input_states], outputs=[Q_values])\n",
        "\n",
        "target = keras.models.clone_model(model)\n",
        "target.set_weights(model.get_weights())"
      ],
      "execution_count": null,
      "outputs": []
    },
    {
      "cell_type": "code",
      "metadata": {
        "id": "O4VHEv28Qgsk"
      },
      "source": [
        "batch_size = 32\n",
        "discount_rate = 0.95\n",
        "optimizer = keras.optimizers.Adam(lr=7.5e-3)\n",
        "loss_fn = keras.losses.Huber()\n",
        "\n",
        "def training_step(batch_size):\n",
        "    experiences = sample_experiences(batch_size)\n",
        "    states, actions, rewards, next_states, dones = experiences\n",
        "    next_Q_values = model.predict(next_states)\n",
        "    best_next_actions = np.argmax(next_Q_values, axis=1)\n",
        "    next_mask = tf.one_hot(best_next_actions, n_outputs).numpy()\n",
        "    next_best_Q_values = (target.predict(next_states) * next_mask).sum(axis=1)\n",
        "    target_Q_values = (rewards + \n",
        "                       (1 - dones) * discount_rate * next_best_Q_values)\n",
        "    target_Q_values = target_Q_values.reshape(-1, 1)\n",
        "    mask = tf.one_hot(actions, n_outputs)\n",
        "    with tf.GradientTape() as tape:\n",
        "        all_Q_values = model(states)\n",
        "        Q_values = tf.reduce_sum(all_Q_values * mask, axis=1, keepdims=True)\n",
        "        loss = tf.reduce_mean(loss_fn(target_Q_values, Q_values))\n",
        "    grads = tape.gradient(loss, model.trainable_variables)\n",
        "    optimizer.apply_gradients(zip(grads, model.trainable_variables))"
      ],
      "execution_count": null,
      "outputs": []
    },
    {
      "cell_type": "code",
      "metadata": {
        "id": "fK5bCrZXQgsl"
      },
      "source": [
        "replay_memory = deque(maxlen=2000)"
      ],
      "execution_count": null,
      "outputs": []
    },
    {
      "cell_type": "code",
      "metadata": {
        "id": "rV3tRK6kQgsl"
      },
      "source": [
        "env.seed(42)\n",
        "np.random.seed(42)\n",
        "tf.random.set_seed(42)\n",
        "\n",
        "rewards = []\n",
        "best_score = 0\n",
        "\n",
        "for episode in range(600):\n",
        "    obs = env.reset()    \n",
        "    for step in range(200):\n",
        "        epsilon = max(1 - episode / 500, 0.01)\n",
        "        obs, reward, done, info = play_one_step(env, obs, epsilon)\n",
        "        if done:\n",
        "            break\n",
        "    rewards.append(step)\n",
        "    if step >= best_score:\n",
        "        best_weights = model.get_weights()\n",
        "        best_score = step\n",
        "    print(\"\\rEpisode: {}, Steps: {}, eps: {:.3f}\".format(episode, step + 1, epsilon), end=\"\")\n",
        "    if episode >= 50:\n",
        "        training_step(batch_size)\n",
        "        if episode % 50 == 0:\n",
        "            target.set_weights(model.get_weights())\n",
        "\n",
        "model.set_weights(best_weights)"
      ],
      "execution_count": null,
      "outputs": []
    },
    {
      "cell_type": "code",
      "metadata": {
        "id": "-inWoRLMQgsm"
      },
      "source": [
        "plt.plot(rewards)\n",
        "plt.xlabel(\"Episode\")\n",
        "plt.ylabel(\"Sum of rewards\")\n",
        "plt.show()"
      ],
      "execution_count": null,
      "outputs": []
    },
    {
      "cell_type": "code",
      "metadata": {
        "scrolled": true,
        "id": "zP_pGpVUQgsm"
      },
      "source": [
        "env.seed(42)\n",
        "state = env.reset()\n",
        "\n",
        "frames = []\n",
        "\n",
        "for step in range(200):\n",
        "    action = epsilon_greedy_policy(state)\n",
        "    state, reward, done, info = env.step(action)\n",
        "    if done:\n",
        "        break\n",
        "    img = env.render(mode=\"rgb_array\")\n",
        "    frames.append(img)\n",
        "    \n",
        "plot_animation(frames)"
      ],
      "execution_count": null,
      "outputs": []
    },
    {
      "cell_type": "markdown",
      "metadata": {
        "id": "1UQe777RQgsn"
      },
      "source": [
        "This looks like a pretty robust agent!"
      ]
    },
    {
      "cell_type": "code",
      "metadata": {
        "id": "8Wp16dKrQgsn"
      },
      "source": [
        "env.close()"
      ],
      "execution_count": null,
      "outputs": []
    },
    {
      "cell_type": "markdown",
      "metadata": {
        "id": "Xd4U5dauQgsn"
      },
      "source": [
        "# Using TF-Agents to Beat Breakout"
      ]
    },
    {
      "cell_type": "markdown",
      "metadata": {
        "id": "N0bDczdVQgso"
      },
      "source": [
        "Let's use TF-Agents to create an agent that will learn to play Breakout. We will use the Deep Q-Learning algorithm, so you can easily compare the components with the previous implementation, but TF-Agents implements many other (and more sophisticated) algorithms!"
      ]
    },
    {
      "cell_type": "markdown",
      "metadata": {
        "id": "JumaoEbqQgso"
      },
      "source": [
        "## TF-Agents Environments"
      ]
    },
    {
      "cell_type": "code",
      "metadata": {
        "id": "2rJzNK9mQgso"
      },
      "source": [
        "tf.random.set_seed(42)\n",
        "np.random.seed(42)"
      ],
      "execution_count": null,
      "outputs": []
    },
    {
      "cell_type": "code",
      "metadata": {
        "id": "NJjGA66wQgsp"
      },
      "source": [
        "from tf_agents.environments import suite_gym\n",
        "\n",
        "env = suite_gym.load(\"Breakout-v4\")\n",
        "env"
      ],
      "execution_count": null,
      "outputs": []
    },
    {
      "cell_type": "code",
      "metadata": {
        "id": "gvDYMmj7Qgsp"
      },
      "source": [
        "env.gym"
      ],
      "execution_count": null,
      "outputs": []
    },
    {
      "cell_type": "code",
      "metadata": {
        "id": "c5TKqpziQgsq"
      },
      "source": [
        "env.seed(42)\n",
        "env.reset()"
      ],
      "execution_count": null,
      "outputs": []
    },
    {
      "cell_type": "code",
      "metadata": {
        "id": "DT1oZANbQgsr"
      },
      "source": [
        "env.step(1) # Fire"
      ],
      "execution_count": null,
      "outputs": []
    },
    {
      "cell_type": "code",
      "metadata": {
        "id": "ExHnQ_pNQgss"
      },
      "source": [
        "img = env.render(mode=\"rgb_array\")\n",
        "\n",
        "plt.figure(figsize=(6, 8))\n",
        "plt.imshow(img)\n",
        "plt.axis(\"off\")\n",
        "save_fig(\"breakout_plot\")\n",
        "plt.show()"
      ],
      "execution_count": null,
      "outputs": []
    },
    {
      "cell_type": "code",
      "metadata": {
        "id": "RT8wY505Qgss"
      },
      "source": [
        "env.current_time_step()"
      ],
      "execution_count": null,
      "outputs": []
    },
    {
      "cell_type": "markdown",
      "metadata": {
        "id": "xZ9nwXzeQgst"
      },
      "source": [
        "## Environment Specifications"
      ]
    },
    {
      "cell_type": "code",
      "metadata": {
        "id": "dVoNXlvnQgst"
      },
      "source": [
        "env.observation_spec()"
      ],
      "execution_count": null,
      "outputs": []
    },
    {
      "cell_type": "code",
      "metadata": {
        "id": "P4PXhhfdQgsu"
      },
      "source": [
        "env.action_spec()"
      ],
      "execution_count": null,
      "outputs": []
    },
    {
      "cell_type": "code",
      "metadata": {
        "id": "eALjAjmlQgsu"
      },
      "source": [
        "env.time_step_spec()"
      ],
      "execution_count": null,
      "outputs": []
    },
    {
      "cell_type": "markdown",
      "metadata": {
        "id": "y1M4F0NoQgsv"
      },
      "source": [
        "## Environment Wrappers"
      ]
    },
    {
      "cell_type": "markdown",
      "metadata": {
        "id": "GVNIc4FDQgsv"
      },
      "source": [
        "You can wrap a TF-Agents environments in a TF-Agents wrapper:"
      ]
    },
    {
      "cell_type": "code",
      "metadata": {
        "id": "4eZ53vKgQgsv"
      },
      "source": [
        "from tf_agents.environments.wrappers import ActionRepeat\n",
        "\n",
        "repeating_env = ActionRepeat(env, times=4)\n",
        "repeating_env"
      ],
      "execution_count": null,
      "outputs": []
    },
    {
      "cell_type": "code",
      "metadata": {
        "id": "fj5kcKkFQgsw"
      },
      "source": [
        "repeating_env.unwrapped"
      ],
      "execution_count": null,
      "outputs": []
    },
    {
      "cell_type": "markdown",
      "metadata": {
        "id": "m1wuDPZGQgsw"
      },
      "source": [
        "Here is the list of available wrappers:"
      ]
    },
    {
      "cell_type": "code",
      "metadata": {
        "id": "QfsnbxzWQgsw"
      },
      "source": [
        "import tf_agents.environments.wrappers\n",
        "\n",
        "for name in dir(tf_agents.environments.wrappers):\n",
        "    obj = getattr(tf_agents.environments.wrappers, name)\n",
        "    if hasattr(obj, \"__base__\") and issubclass(obj, tf_agents.environments.wrappers.PyEnvironmentBaseWrapper):\n",
        "        print(\"{:27s} {}\".format(name, obj.__doc__.split(\"\\n\")[0]))"
      ],
      "execution_count": null,
      "outputs": []
    },
    {
      "cell_type": "markdown",
      "metadata": {
        "id": "csar61bkQgsw"
      },
      "source": [
        "The `suite_gym.load()` function can create an env and wrap it for you, both with TF-Agents environment wrappers and Gym environment wrappers (the latter are applied first)."
      ]
    },
    {
      "cell_type": "code",
      "metadata": {
        "id": "3HM2A0ggQgsx"
      },
      "source": [
        "from functools import partial\n",
        "from gym.wrappers import TimeLimit\n",
        "\n",
        "limited_repeating_env = suite_gym.load(\n",
        "    \"Breakout-v4\",\n",
        "    gym_env_wrappers=[partial(TimeLimit, max_episode_steps=10000)],\n",
        "    env_wrappers=[partial(ActionRepeat, times=4)],\n",
        ")"
      ],
      "execution_count": null,
      "outputs": []
    },
    {
      "cell_type": "code",
      "metadata": {
        "id": "IhClDYf3Qgsx"
      },
      "source": [
        "limited_repeating_env"
      ],
      "execution_count": null,
      "outputs": []
    },
    {
      "cell_type": "code",
      "metadata": {
        "id": "o1onSC42Qgsx"
      },
      "source": [
        "limited_repeating_env.unwrapped"
      ],
      "execution_count": null,
      "outputs": []
    },
    {
      "cell_type": "markdown",
      "metadata": {
        "id": "fAmhJCK7Qgsy"
      },
      "source": [
        "Create an Atari Breakout environment, and wrap it to apply the default Atari preprocessing steps:"
      ]
    },
    {
      "cell_type": "markdown",
      "metadata": {
        "id": "xsPL3GLIQgsy"
      },
      "source": [
        "**Warning**: Breakout requires the player to press the FIRE button at the start of the game and after each life lost. The agent may take a very long time learning this because at first it seems that pressing FIRE just means losing faster. To speed up training considerably, we create and use a subclass of the `AtariPreprocessing` wrapper class called `AtariPreprocessingWithAutoFire` which presses FIRE (i.e., plays action 1) automatically at the start of the game and after each life lost. This is different from the book which uses the regular `AtariPreprocessing` wrapper."
      ]
    },
    {
      "cell_type": "code",
      "metadata": {
        "id": "SFu6tjSwQgsy"
      },
      "source": [
        "from tf_agents.environments import suite_atari\n",
        "from tf_agents.environments.atari_preprocessing import AtariPreprocessing\n",
        "from tf_agents.environments.atari_wrappers import FrameStack4\n",
        "\n",
        "max_episode_steps = 27000 # <=> 108k ALE frames since 1 step = 4 frames\n",
        "environment_name = \"BreakoutNoFrameskip-v4\"\n",
        "\n",
        "class AtariPreprocessingWithAutoFire(AtariPreprocessing):\n",
        "    def reset(self, **kwargs):\n",
        "        obs = super().reset(**kwargs)\n",
        "        super().step(1) # FIRE to start\n",
        "        return obs\n",
        "    def step(self, action):\n",
        "        lives_before_action = self.ale.lives()\n",
        "        obs, rewards, done, info = super().step(action)\n",
        "        if self.ale.lives() < lives_before_action and not done:\n",
        "            super().step(1) # FIRE to start after life lost\n",
        "        return obs, rewards, done, info\n",
        "\n",
        "env = suite_atari.load(\n",
        "    environment_name,\n",
        "    max_episode_steps=max_episode_steps,\n",
        "    gym_env_wrappers=[AtariPreprocessingWithAutoFire, FrameStack4])"
      ],
      "execution_count": null,
      "outputs": []
    },
    {
      "cell_type": "code",
      "metadata": {
        "id": "-uMtT93hQgsz"
      },
      "source": [
        "env"
      ],
      "execution_count": null,
      "outputs": []
    },
    {
      "cell_type": "markdown",
      "metadata": {
        "id": "gn53MFc5Qgsz"
      },
      "source": [
        "Play a few steps just to see what happens:"
      ]
    },
    {
      "cell_type": "code",
      "metadata": {
        "id": "hFtQ1wydQgsz"
      },
      "source": [
        "env.seed(42)\n",
        "env.reset()\n",
        "for _ in range(4):\n",
        "    time_step = env.step(3) # LEFT"
      ],
      "execution_count": null,
      "outputs": []
    },
    {
      "cell_type": "code",
      "metadata": {
        "id": "zp8luLrHQgsz"
      },
      "source": [
        "def plot_observation(obs):\n",
        "    # Since there are only 3 color channels, you cannot display 4 frames\n",
        "    # with one primary color per frame. So this code computes the delta between\n",
        "    # the current frame and the mean of the other frames, and it adds this delta\n",
        "    # to the red and blue channels to get a pink color for the current frame.\n",
        "    obs = obs.astype(np.float32)\n",
        "    img = obs[..., :3]\n",
        "    current_frame_delta = np.maximum(obs[..., 3] - obs[..., :3].mean(axis=-1), 0.)\n",
        "    img[..., 0] += current_frame_delta\n",
        "    img[..., 2] += current_frame_delta\n",
        "    img = np.clip(img / 150, 0, 1)\n",
        "    plt.imshow(img)\n",
        "    plt.axis(\"off\")"
      ],
      "execution_count": null,
      "outputs": []
    },
    {
      "cell_type": "code",
      "metadata": {
        "id": "K0ud2cauQgs0"
      },
      "source": [
        "plt.figure(figsize=(6, 6))\n",
        "plot_observation(time_step.observation)\n",
        "save_fig(\"preprocessed_breakout_plot\")\n",
        "plt.show()"
      ],
      "execution_count": null,
      "outputs": []
    },
    {
      "cell_type": "markdown",
      "metadata": {
        "id": "C9zdEL2XQgs0"
      },
      "source": [
        "Convert the Python environment to a TF environment:"
      ]
    },
    {
      "cell_type": "code",
      "metadata": {
        "id": "31IRahAmQgs0"
      },
      "source": [
        "from tf_agents.environments.tf_py_environment import TFPyEnvironment\n",
        "\n",
        "tf_env = TFPyEnvironment(env)"
      ],
      "execution_count": null,
      "outputs": []
    },
    {
      "cell_type": "markdown",
      "metadata": {
        "id": "uMQ6bg59Qgs0"
      },
      "source": [
        "## Creating the DQN"
      ]
    },
    {
      "cell_type": "markdown",
      "metadata": {
        "id": "lgJlkaBPQgs1"
      },
      "source": [
        "Create a small class to normalize the observations. Images are stored using bytes from 0 to 255 to use less RAM, but we want to pass floats from 0.0 to 1.0 to the neural network:"
      ]
    },
    {
      "cell_type": "markdown",
      "metadata": {
        "id": "pkSS9f70Qgs1"
      },
      "source": [
        "Create the Q-Network:"
      ]
    },
    {
      "cell_type": "code",
      "metadata": {
        "id": "Wzlp1iQOQgs1"
      },
      "source": [
        "from tf_agents.networks.q_network import QNetwork\n",
        "\n",
        "preprocessing_layer = keras.layers.Lambda(\n",
        "                          lambda obs: tf.cast(obs, np.float32) / 255.)\n",
        "conv_layer_params=[(32, (8, 8), 4), (64, (4, 4), 2), (64, (3, 3), 1)]\n",
        "fc_layer_params=[512]\n",
        "\n",
        "q_net = QNetwork(\n",
        "    tf_env.observation_spec(),\n",
        "    tf_env.action_spec(),\n",
        "    preprocessing_layers=preprocessing_layer,\n",
        "    conv_layer_params=conv_layer_params,\n",
        "    fc_layer_params=fc_layer_params)"
      ],
      "execution_count": null,
      "outputs": []
    },
    {
      "cell_type": "markdown",
      "metadata": {
        "id": "24WRY4A1Qgs1"
      },
      "source": [
        "Create the DQN Agent:"
      ]
    },
    {
      "cell_type": "code",
      "metadata": {
        "id": "4x7Ad_ESQgs2"
      },
      "source": [
        "from tf_agents.agents.dqn.dqn_agent import DqnAgent\n",
        "\n",
        "train_step = tf.Variable(0)\n",
        "update_period = 4 # run a training step every 4 collect steps\n",
        "optimizer = keras.optimizers.RMSprop(lr=2.5e-4, rho=0.95, momentum=0.0,\n",
        "                                     epsilon=0.00001, centered=True)\n",
        "epsilon_fn = keras.optimizers.schedules.PolynomialDecay(\n",
        "    initial_learning_rate=1.0, # initial ε\n",
        "    decay_steps=250000 // update_period, # <=> 1,000,000 ALE frames\n",
        "    end_learning_rate=0.01) # final ε\n",
        "agent = DqnAgent(tf_env.time_step_spec(),\n",
        "                 tf_env.action_spec(),\n",
        "                 q_network=q_net,\n",
        "                 optimizer=optimizer,\n",
        "                 target_update_period=2000, # <=> 32,000 ALE frames\n",
        "                 td_errors_loss_fn=keras.losses.Huber(reduction=\"none\"),\n",
        "                 gamma=0.99, # discount factor\n",
        "                 train_step_counter=train_step,\n",
        "                 epsilon_greedy=lambda: epsilon_fn(train_step))\n",
        "agent.initialize()"
      ],
      "execution_count": null,
      "outputs": []
    },
    {
      "cell_type": "markdown",
      "metadata": {
        "id": "jiNpQCkVQgs2"
      },
      "source": [
        "Create the replay buffer (this will use a lot of RAM, so please reduce the buffer size if you get an out-of-memory error):"
      ]
    },
    {
      "cell_type": "markdown",
      "metadata": {
        "id": "CZM-jILOQgs3"
      },
      "source": [
        "**Warning**: we use a replay buffer of size 100,000 instead of 1,000,000 (as used in the book) since many people were getting OOM (Out-Of-Memory) errors."
      ]
    },
    {
      "cell_type": "code",
      "metadata": {
        "id": "OS5d8JUdQgs3"
      },
      "source": [
        "from tf_agents.replay_buffers import tf_uniform_replay_buffer\n",
        "\n",
        "replay_buffer = tf_uniform_replay_buffer.TFUniformReplayBuffer(\n",
        "    data_spec=agent.collect_data_spec,\n",
        "    batch_size=tf_env.batch_size,\n",
        "    max_length=100000) # reduce if OOM error\n",
        "\n",
        "replay_buffer_observer = replay_buffer.add_batch"
      ],
      "execution_count": null,
      "outputs": []
    },
    {
      "cell_type": "markdown",
      "metadata": {
        "id": "Wi6qY_MlQgs3"
      },
      "source": [
        "Create a simple custom observer that counts and displays the number of times it is called (except when it is passed a trajectory that represents the boundary between two episodes, as this does not count as a step):"
      ]
    },
    {
      "cell_type": "code",
      "metadata": {
        "id": "EDYrlGfeQgs3"
      },
      "source": [
        "class ShowProgress:\n",
        "    def __init__(self, total):\n",
        "        self.counter = 0\n",
        "        self.total = total\n",
        "    def __call__(self, trajectory):\n",
        "        if not trajectory.is_boundary():\n",
        "            self.counter += 1\n",
        "        if self.counter % 100 == 0:\n",
        "            print(\"\\r{}/{}\".format(self.counter, self.total), end=\"\")"
      ],
      "execution_count": null,
      "outputs": []
    },
    {
      "cell_type": "markdown",
      "metadata": {
        "id": "Al4AXJiNQgs4"
      },
      "source": [
        "Let's add some training metrics:"
      ]
    },
    {
      "cell_type": "code",
      "metadata": {
        "id": "_hcwqO5dQgs4"
      },
      "source": [
        "from tf_agents.metrics import tf_metrics\n",
        "\n",
        "train_metrics = [\n",
        "    tf_metrics.NumberOfEpisodes(),\n",
        "    tf_metrics.EnvironmentSteps(),\n",
        "    tf_metrics.AverageReturnMetric(),\n",
        "    tf_metrics.AverageEpisodeLengthMetric(),\n",
        "]"
      ],
      "execution_count": null,
      "outputs": []
    },
    {
      "cell_type": "code",
      "metadata": {
        "id": "RIiR1Ee7Qgs4"
      },
      "source": [
        "train_metrics[0].result()"
      ],
      "execution_count": null,
      "outputs": []
    },
    {
      "cell_type": "code",
      "metadata": {
        "id": "C6BLDTgXQgs5"
      },
      "source": [
        "from tf_agents.eval.metric_utils import log_metrics\n",
        "import logging\n",
        "logging.getLogger().setLevel(logging.INFO)\n",
        "log_metrics(train_metrics)"
      ],
      "execution_count": null,
      "outputs": []
    },
    {
      "cell_type": "markdown",
      "metadata": {
        "id": "-WejOtFLQgs5"
      },
      "source": [
        "Create the collect driver:"
      ]
    },
    {
      "cell_type": "code",
      "metadata": {
        "id": "pbUrMLn0Qgs5"
      },
      "source": [
        "from tf_agents.drivers.dynamic_step_driver import DynamicStepDriver\n",
        "\n",
        "collect_driver = DynamicStepDriver(\n",
        "    tf_env,\n",
        "    agent.collect_policy,\n",
        "    observers=[replay_buffer_observer] + train_metrics,\n",
        "    num_steps=update_period) # collect 4 steps for each training iteration"
      ],
      "execution_count": null,
      "outputs": []
    },
    {
      "cell_type": "markdown",
      "metadata": {
        "id": "sZzdinQCQgs6"
      },
      "source": [
        "Collect the initial experiences, before training:"
      ]
    },
    {
      "cell_type": "code",
      "metadata": {
        "id": "MbJ77xE5Qgs6"
      },
      "source": [
        "from tf_agents.policies.random_tf_policy import RandomTFPolicy\n",
        "\n",
        "initial_collect_policy = RandomTFPolicy(tf_env.time_step_spec(),\n",
        "                                        tf_env.action_spec())\n",
        "init_driver = DynamicStepDriver(\n",
        "    tf_env,\n",
        "    initial_collect_policy,\n",
        "    observers=[replay_buffer.add_batch, ShowProgress(20000)],\n",
        "    num_steps=20000) # <=> 80,000 ALE frames\n",
        "final_time_step, final_policy_state = init_driver.run()"
      ],
      "execution_count": null,
      "outputs": []
    },
    {
      "cell_type": "markdown",
      "metadata": {
        "id": "b9iFDtCIQgs7"
      },
      "source": [
        "Let's sample 2 sub-episodes, with 3 time steps each and display them:"
      ]
    },
    {
      "cell_type": "markdown",
      "metadata": {
        "id": "ZaDWL2SgQgs7"
      },
      "source": [
        "**Note**: `replay_buffer.get_next()` is deprecated. We must use `replay_buffer.as_dataset(..., single_deterministic_pass=False)` instead."
      ]
    },
    {
      "cell_type": "code",
      "metadata": {
        "id": "im3TGqSSQgs7"
      },
      "source": [
        "tf.random.set_seed(9) # chosen to show an example of trajectory at the end of an episode\n",
        "\n",
        "#trajectories, buffer_info = replay_buffer.get_next( # get_next() is deprecated\n",
        "#    sample_batch_size=2, num_steps=3)\n",
        "\n",
        "trajectories, buffer_info = next(iter(replay_buffer.as_dataset(\n",
        "    sample_batch_size=2,\n",
        "    num_steps=3,\n",
        "    single_deterministic_pass=False)))"
      ],
      "execution_count": null,
      "outputs": []
    },
    {
      "cell_type": "code",
      "metadata": {
        "id": "-cIPLodJQgs7"
      },
      "source": [
        "trajectories._fields"
      ],
      "execution_count": null,
      "outputs": []
    },
    {
      "cell_type": "code",
      "metadata": {
        "id": "89Q8wmzPQgs8"
      },
      "source": [
        "trajectories.observation.shape"
      ],
      "execution_count": null,
      "outputs": []
    },
    {
      "cell_type": "code",
      "metadata": {
        "id": "gB1ap2rYQgs8"
      },
      "source": [
        "from tf_agents.trajectories.trajectory import to_transition\n",
        "\n",
        "time_steps, action_steps, next_time_steps = to_transition(trajectories)\n",
        "time_steps.observation.shape"
      ],
      "execution_count": null,
      "outputs": []
    },
    {
      "cell_type": "code",
      "metadata": {
        "id": "RvaVHP2YQgs8"
      },
      "source": [
        "trajectories.step_type.numpy()"
      ],
      "execution_count": null,
      "outputs": []
    },
    {
      "cell_type": "code",
      "metadata": {
        "id": "dOipAjVBQgs9"
      },
      "source": [
        "plt.figure(figsize=(10, 6.8))\n",
        "for row in range(2):\n",
        "    for col in range(3):\n",
        "        plt.subplot(2, 3, row * 3 + col + 1)\n",
        "        plot_observation(trajectories.observation[row, col].numpy())\n",
        "plt.subplots_adjust(left=0, right=1, bottom=0, top=1, hspace=0, wspace=0.02)\n",
        "save_fig(\"sub_episodes_plot\")\n",
        "plt.show()"
      ],
      "execution_count": null,
      "outputs": []
    },
    {
      "cell_type": "markdown",
      "metadata": {
        "id": "bYsWFJCBQgs9"
      },
      "source": [
        "Now let's create the dataset:"
      ]
    },
    {
      "cell_type": "code",
      "metadata": {
        "id": "1SXF6NQtQgs9"
      },
      "source": [
        "dataset = replay_buffer.as_dataset(\n",
        "    sample_batch_size=64,\n",
        "    num_steps=2,\n",
        "    num_parallel_calls=3).prefetch(3)"
      ],
      "execution_count": null,
      "outputs": []
    },
    {
      "cell_type": "markdown",
      "metadata": {
        "id": "-kFtkTKwQgs9"
      },
      "source": [
        "Convert the main functions to TF Functions for better performance:"
      ]
    },
    {
      "cell_type": "code",
      "metadata": {
        "id": "SB8DiUcrQgs_"
      },
      "source": [
        "from tf_agents.utils.common import function\n",
        "\n",
        "collect_driver.run = function(collect_driver.run)\n",
        "agent.train = function(agent.train)"
      ],
      "execution_count": null,
      "outputs": []
    },
    {
      "cell_type": "markdown",
      "metadata": {
        "id": "JvXy98IgQgs_"
      },
      "source": [
        "And now we are ready to run the main loop!"
      ]
    },
    {
      "cell_type": "code",
      "metadata": {
        "id": "0p6bogDyQgtA"
      },
      "source": [
        "def train_agent(n_iterations):\n",
        "    time_step = None\n",
        "    policy_state = agent.collect_policy.get_initial_state(tf_env.batch_size)\n",
        "    iterator = iter(dataset)\n",
        "    for iteration in range(n_iterations):\n",
        "        time_step, policy_state = collect_driver.run(time_step, policy_state)\n",
        "        trajectories, buffer_info = next(iterator)\n",
        "        train_loss = agent.train(trajectories)\n",
        "        print(\"\\r{} loss:{:.5f}\".format(\n",
        "            iteration, train_loss.loss.numpy()), end=\"\")\n",
        "        if iteration % 1000 == 0:\n",
        "            log_metrics(train_metrics)"
      ],
      "execution_count": null,
      "outputs": []
    },
    {
      "cell_type": "markdown",
      "metadata": {
        "id": "QTPE9SELQgtA"
      },
      "source": [
        "Run the next cell to train the agent for 50,000 steps. Then look at its behavior by running the following cell. You can run these two cells as many times as you wish. The agent will keep improving! It will likely take over 200,000 iterations for the agent to become reasonably good."
      ]
    },
    {
      "cell_type": "code",
      "metadata": {
        "id": "mj88jrMjQgtA"
      },
      "source": [
        "train_agent(n_iterations=50000)"
      ],
      "execution_count": null,
      "outputs": []
    },
    {
      "cell_type": "code",
      "metadata": {
        "id": "_ueiScjqQgtB"
      },
      "source": [
        "frames = []\n",
        "def save_frames(trajectory):\n",
        "    global frames\n",
        "    frames.append(tf_env.pyenv.envs[0].render(mode=\"rgb_array\"))\n",
        "\n",
        "watch_driver = DynamicStepDriver(\n",
        "    tf_env,\n",
        "    agent.policy,\n",
        "    observers=[save_frames, ShowProgress(1000)],\n",
        "    num_steps=1000)\n",
        "final_time_step, final_policy_state = watch_driver.run()\n",
        "\n",
        "plot_animation(frames)"
      ],
      "execution_count": null,
      "outputs": []
    },
    {
      "cell_type": "markdown",
      "metadata": {
        "id": "WfyjWt6aQgtB"
      },
      "source": [
        "If you want to save an animated GIF to show off your agent to your friends, here's one way to do it:"
      ]
    },
    {
      "cell_type": "code",
      "metadata": {
        "id": "X7zX8G7rQgtC"
      },
      "source": [
        "import PIL\n",
        "\n",
        "image_path = os.path.join(\"images\", \"rl\", \"breakout.gif\")\n",
        "frame_images = [PIL.Image.fromarray(frame) for frame in frames[:150]]\n",
        "frame_images[0].save(image_path, format='GIF',\n",
        "                     append_images=frame_images[1:],\n",
        "                     save_all=True,\n",
        "                     duration=30,\n",
        "                     loop=0)"
      ],
      "execution_count": null,
      "outputs": []
    },
    {
      "cell_type": "code",
      "metadata": {
        "id": "GvUPm_w8QgtC"
      },
      "source": [
        "%%html\n",
        "<img src=\"images/rl/breakout.gif\" />"
      ],
      "execution_count": null,
      "outputs": []
    },
    {
      "cell_type": "markdown",
      "metadata": {
        "id": "RNueCNz3QgtD"
      },
      "source": [
        "# Extra material"
      ]
    },
    {
      "cell_type": "markdown",
      "metadata": {
        "id": "KvYbaXUnQgtD"
      },
      "source": [
        "## Deque vs Rotating List"
      ]
    },
    {
      "cell_type": "markdown",
      "metadata": {
        "id": "4eg3oKSaQgtE"
      },
      "source": [
        "The `deque` class offers fast append, but fairly slow random access (for large replay memories):"
      ]
    },
    {
      "cell_type": "code",
      "metadata": {
        "id": "DE159yfHQgtE"
      },
      "source": [
        "from collections import deque\n",
        "np.random.seed(42)\n",
        "\n",
        "mem = deque(maxlen=1000000)\n",
        "for i in range(1000000):\n",
        "    mem.append(i)\n",
        "[mem[i] for i in np.random.randint(1000000, size=5)]"
      ],
      "execution_count": null,
      "outputs": []
    },
    {
      "cell_type": "code",
      "metadata": {
        "id": "Bh7572-jQgtE"
      },
      "source": [
        "%timeit mem.append(1)"
      ],
      "execution_count": null,
      "outputs": []
    },
    {
      "cell_type": "code",
      "metadata": {
        "id": "q-Ze1pU5QgtF"
      },
      "source": [
        "%timeit [mem[i] for i in np.random.randint(1000000, size=5)]"
      ],
      "execution_count": null,
      "outputs": []
    },
    {
      "cell_type": "markdown",
      "metadata": {
        "id": "aQb_PNr8QgtG"
      },
      "source": [
        "Alternatively, you could use a rotating list like this `ReplayMemory` class. This would make random access faster for large replay memories:"
      ]
    },
    {
      "cell_type": "code",
      "metadata": {
        "id": "7KaxYwTeQgtG"
      },
      "source": [
        "class ReplayMemory:\n",
        "    def __init__(self, max_size):\n",
        "        self.buffer = np.empty(max_size, dtype=np.object)\n",
        "        self.max_size = max_size\n",
        "        self.index = 0\n",
        "        self.size = 0\n",
        "\n",
        "    def append(self, obj):\n",
        "        self.buffer[self.index] = obj\n",
        "        self.size = min(self.size + 1, self.max_size)\n",
        "        self.index = (self.index + 1) % self.max_size\n",
        "\n",
        "    def sample(self, batch_size):\n",
        "        indices = np.random.randint(self.size, size=batch_size)\n",
        "        return self.buffer[indices]"
      ],
      "execution_count": null,
      "outputs": []
    },
    {
      "cell_type": "code",
      "metadata": {
        "id": "Y_mf8nsMQgtG"
      },
      "source": [
        "mem = ReplayMemory(max_size=1000000)\n",
        "for i in range(1000000):\n",
        "    mem.append(i)\n",
        "mem.sample(5)"
      ],
      "execution_count": null,
      "outputs": []
    },
    {
      "cell_type": "code",
      "metadata": {
        "id": "O0TFFSSbQgtH"
      },
      "source": [
        "%timeit mem.append(1)"
      ],
      "execution_count": null,
      "outputs": []
    },
    {
      "cell_type": "code",
      "metadata": {
        "id": "kStcaw72QgtH"
      },
      "source": [
        "%timeit mem.sample(5)"
      ],
      "execution_count": null,
      "outputs": []
    },
    {
      "cell_type": "markdown",
      "metadata": {
        "id": "GZI8sZ5ZQgtH"
      },
      "source": [
        "## Creating a Custom TF-Agents Environment"
      ]
    },
    {
      "cell_type": "markdown",
      "metadata": {
        "id": "8JOWIWgZQgtH"
      },
      "source": [
        "To create a custom TF-Agent environment, you just need to write a class that inherits from the `PyEnvironment` class and implements a few methods. For example, the following minimal environment represents a simple 4x4 grid. The agent starts in one corner (0,0) and must move to the opposite corner (3,3). The episode is done if the agent reaches the goal (it gets a +10 reward) or if the agent goes out of bounds (-1 reward). The actions are up (0), down (1), left (2) and right (3)."
      ]
    },
    {
      "cell_type": "code",
      "metadata": {
        "id": "k3x1n8GTQgtI"
      },
      "source": [
        "class MyEnvironment(tf_agents.environments.py_environment.PyEnvironment):\n",
        "    def __init__(self, discount=1.0):\n",
        "        super().__init__()\n",
        "        self._action_spec = tf_agents.specs.BoundedArraySpec(\n",
        "            shape=(), dtype=np.int32, name=\"action\", minimum=0, maximum=3)\n",
        "        self._observation_spec = tf_agents.specs.BoundedArraySpec(\n",
        "            shape=(4, 4), dtype=np.int32, name=\"observation\", minimum=0, maximum=1)\n",
        "        self.discount = discount\n",
        "\n",
        "    def action_spec(self):\n",
        "        return self._action_spec\n",
        "\n",
        "    def observation_spec(self):\n",
        "        return self._observation_spec\n",
        "\n",
        "    def _reset(self):\n",
        "        self._state = np.zeros(2, dtype=np.int32)\n",
        "        obs = np.zeros((4, 4), dtype=np.int32)\n",
        "        obs[self._state[0], self._state[1]] = 1\n",
        "        return tf_agents.trajectories.time_step.restart(obs)\n",
        "\n",
        "    def _step(self, action):\n",
        "        self._state += [(-1, 0), (+1, 0), (0, -1), (0, +1)][action]\n",
        "        reward = 0\n",
        "        obs = np.zeros((4, 4), dtype=np.int32)\n",
        "        done = (self._state.min() < 0 or self._state.max() > 3)\n",
        "        if not done:\n",
        "            obs[self._state[0], self._state[1]] = 1\n",
        "        if done or np.all(self._state == np.array([3, 3])):\n",
        "            reward = -1 if done else +10\n",
        "            return tf_agents.trajectories.time_step.termination(obs, reward)\n",
        "        else:\n",
        "            return tf_agents.trajectories.time_step.transition(obs, reward,\n",
        "                                                               self.discount)"
      ],
      "execution_count": null,
      "outputs": []
    },
    {
      "cell_type": "markdown",
      "metadata": {
        "id": "-Th_440uQgtI"
      },
      "source": [
        "The action and observation specs will generally be instances of the `ArraySpec` or `BoundedArraySpec` classes from the `tf_agents.specs` package (check out the other specs in this package as well). Optionally, you can also define a `render()` method, a `close()` method to free resources, as well as a `time_step_spec()` method if you don't want the `reward` and `discount` to be 32-bit float scalars. Note that the base class takes care of keeping track of the current time step, which is why we must implement `_reset()` and `_step()` rather than `reset()` and `step()`.\n"
      ]
    },
    {
      "cell_type": "code",
      "metadata": {
        "id": "KNSKDkFDQgtI"
      },
      "source": [
        "my_env = MyEnvironment()\n",
        "time_step = my_env.reset()\n",
        "time_step"
      ],
      "execution_count": null,
      "outputs": []
    },
    {
      "cell_type": "code",
      "metadata": {
        "id": "1I1Fq-HPQgtJ"
      },
      "source": [
        "time_step = my_env.step(1)\n",
        "time_step"
      ],
      "execution_count": null,
      "outputs": []
    }
  ]
}